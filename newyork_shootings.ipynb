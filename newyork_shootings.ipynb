{
 "cells": [
  {
   "cell_type": "markdown",
   "metadata": {},
   "source": [
    "# Exploratory Data Analysis: New York City Shooting Incidences 2006-2021.\n"
   ]
  },
  {
   "attachments": {},
   "cell_type": "markdown",
   "metadata": {},
   "source": [
    "## Introduction\n",
    "\n",
    "- In the United States, hate crimes and shooting incidents have increased, leading to a national debate on gun control laws. To develop effective police enforcement and intervention strategies, it is essential to gain a thorough understanding of criminal activity through statistical analysis, summary, and insights derived from data sources such as the New York City Shooting Incidences dataset.\n",
    "\n",
    "- This trend indicates that there is a rise in violence on the streets, making them less safe and in need of an urgent solution.\n",
    "\n",
    "[Click here to get the data set.](https://www.kaggle.com/thedataperson/nypd-shooting-incident-data-20062021/download);\n",
    "\n",
    "- We shall draw insights from shooting (location,date, time) and the shooter/victim (age, gender, race).\n",
    "- We shall narrow down on the location with the most incidences and draw insights.\n",
    "- Expect some investigative questions about our data set.\n",
    "\n",
    "  > Focusing on regions with the highest occurrences is crucial because implementing measures to reduce these occurrences in these areas can inform strategies to lower or prevent incidents in other areas, thereby benefiting law enforcement and policymakers.\n",
    "\n",
    "  > The analysis will focus on locations that have the highest frequency of incidents, hence the reason for the narrowing down.\n",
    "\n",
    "- Examining areas with fewer incidents could be just as crucial because there may be measures implemented to maintain low figures.\n",
    "- There are numerous reasons why the analysis and statistics of criminal activity hold significance.\n",
    "\n",
    "- Their assistance extends to the realm of \"predictive policing\" within criminal justice systems.\n",
    "- Amidst the era of community policing, such data assists in enhancing connections with the community.\n",
    "- When it comes to reducing criminal activity, they offer significant support in the form of legal initiatives.\n",
    "\n",
    "  [Click here for more details on why crime statistics are important.](https://www.waldenu.edu/online-bachelors-programs/bs-in-criminal-justice/resource/why-national-crime-statistics-are-important)\n"
   ]
  },
  {
   "attachments": {},
   "cell_type": "markdown",
   "metadata": {},
   "source": [
    "## Outline\n",
    "\n",
    "- **We will clean the data:** Here we shall find missing values and Fill Missing Values\n",
    "- **Do Transformation of the Data:** Here we shall find and remove the duplicates\n",
    "- **Do Exploratory Data Analysis:** Here we shall engage in some statistical description,summary and draw some insights.\n",
    "  We shall also be asking and answering some investigative questions.\n",
    "- Visualize the data using Matplotlib, Seaborn, and Plotly.\n",
    "- Draw conclusions and make recommendations.\n"
   ]
  },
  {
   "cell_type": "code",
   "execution_count": 97,
   "metadata": {
    "tags": []
   },
   "outputs": [],
   "source": [
    "#Import Libraries\n",
    "\n",
    "import pandas as pd\n",
    "import numpy as np\n",
    "import plotly.express as px\n",
    "import matplotlib.pyplot as plt\n",
    "import matplotlib\n",
    "import seaborn as sns\n",
    "\n",
    "%matplotlib inline\n",
    "\n",
    "\n",
    "# Set Style\n",
    "\n",
    "sns.set_style(\"darkgrid\") # Set the parameters that control the general style of the plots.\n",
    "\n",
    "\n",
    "# Customize Matplotlib\n",
    "\n",
    "matplotlib.rcParams[\"font.size\"] = 14\n",
    "matplotlib.rcParams[\"figure.figsize\"] = (10,5)\n",
    "matplotlib.rcParams[\"figure.facecolor\"] = \"#00000000\""
   ]
  },
  {
   "attachments": {},
   "cell_type": "markdown",
   "metadata": {},
   "source": [
    "## Use Kaggle API to download dataset\n",
    "\n",
    "1.  Install the `opendatasets` library\n",
    "2.  Use the `opendatasets.download` helper function.\n",
    "3.  Get Kaggle Credentials.\n",
    "\n",
    "          * Download `Kaggle.json` file.\n",
    "\n",
    "          * Enter your user name and Kaggle API or store the `Kaggle.json` file in the same directory\n",
    "\n",
    "             with the Jupyter notebook.\n",
    "\n",
    "4.  Query the directory where the dataset has been downloaded to using the OS Module.\n",
    "\n",
    "          * The module comes as a Python standard utility Module.\n"
   ]
  },
  {
   "cell_type": "code",
   "execution_count": 98,
   "metadata": {},
   "outputs": [
    {
     "name": "stdout",
     "output_type": "stream",
     "text": [
      "Skipping, found downloaded files in \".\\nypd-shooting-incident-data-20062021\" (use force=True to force download)\n"
     ]
    }
   ],
   "source": [
    "# Install Library for downloading Kaggle Datasets\n",
    "\n",
    "#! pip install opendatasets --upgrade --quiet\n",
    "\n",
    "\n",
    "\"\"\"A Python library for downloading datasets from Kaggle, \n",
    "Google Drive, and other online sources\n",
    "\"\"\"\n",
    "\n",
    "\n",
    "import opendatasets as od\n",
    "\n",
    "# Download Dataset from Kaggle.\n",
    "\n",
    "download_url = (\n",
    "    \"https://www.kaggle.com/thedataperson/nypd-shooting-incident-data-20062021/download\"\n",
    ")\n",
    "\n",
    "od.download(\n",
    "    download_url\n",
    ")  # If you had the dataset the output will be \"Skipping, found downloaded files\""
   ]
  },
  {
   "cell_type": "code",
   "execution_count": 99,
   "metadata": {},
   "outputs": [
    {
     "data": {
      "text/plain": [
       "['NYPD Shooting Incident - Data 2006-2021.csv']"
      ]
     },
     "execution_count": 99,
     "metadata": {},
     "output_type": "execute_result"
    }
   ],
   "source": [
    "# Import the OS module\n",
    "\n",
    "\"\"\"\n",
    "It helps with querying the directory where the dataset has been downloaded to;\n",
    "\n",
    " - That is done by interacting with the underlying operating system \n",
    "\n",
    " - With the module one can;\n",
    "\n",
    " * create and remove a folder(directory). \n",
    " * Fetch the contents of a directory.\n",
    " * Change and identifying the current directory among other operations.\n",
    " \n",
    " \"\"\"\n",
    "\n",
    "import os\n",
    "\n",
    "data_dir = \"./nypd-shooting-incident-data-20062021\"\n",
    "\n",
    "os.listdir(data_dir)"
   ]
  },
  {
   "cell_type": "code",
   "execution_count": 100,
   "metadata": {},
   "outputs": [],
   "source": [
    "# Confirm if your os uses  the / or \\\n",
    "\n",
    "data_filename = data_dir + \"/NYPD Shooting Incident - Data 2006-2021.csv\""
   ]
  },
  {
   "cell_type": "code",
   "execution_count": 101,
   "metadata": {},
   "outputs": [],
   "source": [
    "# Open the dataset\n",
    "\n",
    "nyc_df = pd.read_csv(data_filename)"
   ]
  },
  {
   "cell_type": "code",
   "execution_count": 102,
   "metadata": {},
   "outputs": [
    {
     "data": {
      "text/html": [
       "<div>\n",
       "<style scoped>\n",
       "    .dataframe tbody tr th:only-of-type {\n",
       "        vertical-align: middle;\n",
       "    }\n",
       "\n",
       "    .dataframe tbody tr th {\n",
       "        vertical-align: top;\n",
       "    }\n",
       "\n",
       "    .dataframe thead th {\n",
       "        text-align: right;\n",
       "    }\n",
       "</style>\n",
       "<table border=\"1\" class=\"dataframe\">\n",
       "  <thead>\n",
       "    <tr style=\"text-align: right;\">\n",
       "      <th></th>\n",
       "      <th>INCIDENT_KEY</th>\n",
       "      <th>OCCUR_DATE</th>\n",
       "      <th>OCCUR_TIME</th>\n",
       "      <th>BORO</th>\n",
       "      <th>PRECINCT</th>\n",
       "      <th>JURISDICTION_CODE</th>\n",
       "      <th>LOCATION_DESC</th>\n",
       "      <th>STATISTICAL_MURDER_FLAG</th>\n",
       "      <th>PERP_AGE_GROUP</th>\n",
       "      <th>PERP_SEX</th>\n",
       "      <th>PERP_RACE</th>\n",
       "      <th>VIC_AGE_GROUP</th>\n",
       "      <th>VIC_SEX</th>\n",
       "      <th>VIC_RACE</th>\n",
       "      <th>X_COORD_CD</th>\n",
       "      <th>Y_COORD_CD</th>\n",
       "      <th>Latitude</th>\n",
       "      <th>Longitude</th>\n",
       "      <th>Lon_Lat</th>\n",
       "    </tr>\n",
       "  </thead>\n",
       "  <tbody>\n",
       "    <tr>\n",
       "      <th>0</th>\n",
       "      <td>226323781</td>\n",
       "      <td>3/30/2021</td>\n",
       "      <td>23:45:00</td>\n",
       "      <td>QUEENS</td>\n",
       "      <td>100</td>\n",
       "      <td>0.0</td>\n",
       "      <td>MULTI DWELL - PUBLIC HOUS</td>\n",
       "      <td>False</td>\n",
       "      <td>NaN</td>\n",
       "      <td>NaN</td>\n",
       "      <td>NaN</td>\n",
       "      <td>25-44</td>\n",
       "      <td>M</td>\n",
       "      <td>BLACK</td>\n",
       "      <td>1036867</td>\n",
       "      <td>153432</td>\n",
       "      <td>40.587664</td>\n",
       "      <td>-73.810560</td>\n",
       "      <td>POINT (-73.81055977899997 40.587663570000075)</td>\n",
       "    </tr>\n",
       "    <tr>\n",
       "      <th>1</th>\n",
       "      <td>226323779</td>\n",
       "      <td>3/30/2021</td>\n",
       "      <td>16:20:00</td>\n",
       "      <td>BROOKLYN</td>\n",
       "      <td>73</td>\n",
       "      <td>2.0</td>\n",
       "      <td>MULTI DWELL - PUBLIC HOUS</td>\n",
       "      <td>False</td>\n",
       "      <td>25-44</td>\n",
       "      <td>M</td>\n",
       "      <td>BLACK</td>\n",
       "      <td>25-44</td>\n",
       "      <td>M</td>\n",
       "      <td>BLACK</td>\n",
       "      <td>1009548</td>\n",
       "      <td>187629</td>\n",
       "      <td>40.681647</td>\n",
       "      <td>-73.908790</td>\n",
       "      <td>POINT (-73.90879049699998 40.68164709200005)</td>\n",
       "    </tr>\n",
       "    <tr>\n",
       "      <th>2</th>\n",
       "      <td>226323782</td>\n",
       "      <td>3/30/2021</td>\n",
       "      <td>23:15:00</td>\n",
       "      <td>BRONX</td>\n",
       "      <td>42</td>\n",
       "      <td>2.0</td>\n",
       "      <td>MULTI DWELL - PUBLIC HOUS</td>\n",
       "      <td>False</td>\n",
       "      <td>NaN</td>\n",
       "      <td>NaN</td>\n",
       "      <td>NaN</td>\n",
       "      <td>18-24</td>\n",
       "      <td>M</td>\n",
       "      <td>BLACK</td>\n",
       "      <td>1012074</td>\n",
       "      <td>240410</td>\n",
       "      <td>40.826510</td>\n",
       "      <td>-73.899465</td>\n",
       "      <td>POINT (-73.89946470899997 40.82650984800006)</td>\n",
       "    </tr>\n",
       "    <tr>\n",
       "      <th>3</th>\n",
       "      <td>226321042</td>\n",
       "      <td>3/30/2021</td>\n",
       "      <td>13:35:00</td>\n",
       "      <td>MANHATTAN</td>\n",
       "      <td>7</td>\n",
       "      <td>0.0</td>\n",
       "      <td>NaN</td>\n",
       "      <td>False</td>\n",
       "      <td>18-24</td>\n",
       "      <td>M</td>\n",
       "      <td>BLACK</td>\n",
       "      <td>18-24</td>\n",
       "      <td>M</td>\n",
       "      <td>BLACK</td>\n",
       "      <td>987721</td>\n",
       "      <td>202253</td>\n",
       "      <td>40.721822</td>\n",
       "      <td>-73.987479</td>\n",
       "      <td>POINT (-73.98747935099993 40.72182201900005)</td>\n",
       "    </tr>\n",
       "    <tr>\n",
       "      <th>4</th>\n",
       "      <td>226320600</td>\n",
       "      <td>3/30/2021</td>\n",
       "      <td>22:23:00</td>\n",
       "      <td>BRONX</td>\n",
       "      <td>45</td>\n",
       "      <td>0.0</td>\n",
       "      <td>NaN</td>\n",
       "      <td>True</td>\n",
       "      <td>NaN</td>\n",
       "      <td>NaN</td>\n",
       "      <td>NaN</td>\n",
       "      <td>18-24</td>\n",
       "      <td>M</td>\n",
       "      <td>BLACK HISPANIC</td>\n",
       "      <td>1032091</td>\n",
       "      <td>241976</td>\n",
       "      <td>40.830722</td>\n",
       "      <td>-73.827126</td>\n",
       "      <td>POINT (-73.82712605899997 40.83072232800004)</td>\n",
       "    </tr>\n",
       "  </tbody>\n",
       "</table>\n",
       "</div>"
      ],
      "text/plain": [
       "   INCIDENT_KEY OCCUR_DATE OCCUR_TIME       BORO  PRECINCT  JURISDICTION_CODE  \\\n",
       "0     226323781  3/30/2021   23:45:00     QUEENS       100                0.0   \n",
       "1     226323779  3/30/2021   16:20:00   BROOKLYN        73                2.0   \n",
       "2     226323782  3/30/2021   23:15:00      BRONX        42                2.0   \n",
       "3     226321042  3/30/2021   13:35:00  MANHATTAN         7                0.0   \n",
       "4     226320600  3/30/2021   22:23:00      BRONX        45                0.0   \n",
       "\n",
       "               LOCATION_DESC  STATISTICAL_MURDER_FLAG PERP_AGE_GROUP PERP_SEX  \\\n",
       "0  MULTI DWELL - PUBLIC HOUS                    False            NaN      NaN   \n",
       "1  MULTI DWELL - PUBLIC HOUS                    False          25-44        M   \n",
       "2  MULTI DWELL - PUBLIC HOUS                    False            NaN      NaN   \n",
       "3                        NaN                    False          18-24        M   \n",
       "4                        NaN                     True            NaN      NaN   \n",
       "\n",
       "  PERP_RACE VIC_AGE_GROUP VIC_SEX        VIC_RACE X_COORD_CD Y_COORD_CD  \\\n",
       "0       NaN         25-44       M           BLACK    1036867     153432   \n",
       "1     BLACK         25-44       M           BLACK    1009548     187629   \n",
       "2       NaN         18-24       M           BLACK    1012074     240410   \n",
       "3     BLACK         18-24       M           BLACK     987721     202253   \n",
       "4       NaN         18-24       M  BLACK HISPANIC    1032091     241976   \n",
       "\n",
       "    Latitude  Longitude                                        Lon_Lat  \n",
       "0  40.587664 -73.810560  POINT (-73.81055977899997 40.587663570000075)  \n",
       "1  40.681647 -73.908790   POINT (-73.90879049699998 40.68164709200005)  \n",
       "2  40.826510 -73.899465   POINT (-73.89946470899997 40.82650984800006)  \n",
       "3  40.721822 -73.987479   POINT (-73.98747935099993 40.72182201900005)  \n",
       "4  40.830722 -73.827126   POINT (-73.82712605899997 40.83072232800004)  "
      ]
     },
     "execution_count": 102,
     "metadata": {},
     "output_type": "execute_result"
    }
   ],
   "source": [
    "# NewYork shooting incidences dataframe\n",
    "nyc_df.head(5)"
   ]
  },
  {
   "attachments": {},
   "cell_type": "markdown",
   "metadata": {},
   "source": [
    "## Data Preparation and Cleaning\n"
   ]
  },
  {
   "attachments": {},
   "cell_type": "markdown",
   "metadata": {},
   "source": [
    "###  Missing data"
   ]
  },
  {
   "cell_type": "code",
   "execution_count": 103,
   "metadata": {},
   "outputs": [
    {
     "data": {
      "text/html": [
       "<div>\n",
       "<style scoped>\n",
       "    .dataframe tbody tr th:only-of-type {\n",
       "        vertical-align: middle;\n",
       "    }\n",
       "\n",
       "    .dataframe tbody tr th {\n",
       "        vertical-align: top;\n",
       "    }\n",
       "\n",
       "    .dataframe thead th {\n",
       "        text-align: right;\n",
       "    }\n",
       "</style>\n",
       "<table border=\"1\" class=\"dataframe\">\n",
       "  <thead>\n",
       "    <tr style=\"text-align: right;\">\n",
       "      <th></th>\n",
       "      <th>INCIDENT_KEY</th>\n",
       "      <th>OCCUR_DATE</th>\n",
       "      <th>OCCUR_TIME</th>\n",
       "      <th>BORO</th>\n",
       "      <th>PRECINCT</th>\n",
       "      <th>JURISDICTION_CODE</th>\n",
       "      <th>LOCATION_DESC</th>\n",
       "      <th>STATISTICAL_MURDER_FLAG</th>\n",
       "      <th>PERP_AGE_GROUP</th>\n",
       "      <th>PERP_SEX</th>\n",
       "      <th>PERP_RACE</th>\n",
       "      <th>VIC_AGE_GROUP</th>\n",
       "      <th>VIC_SEX</th>\n",
       "      <th>VIC_RACE</th>\n",
       "      <th>X_COORD_CD</th>\n",
       "      <th>Y_COORD_CD</th>\n",
       "      <th>Latitude</th>\n",
       "      <th>Longitude</th>\n",
       "      <th>Lon_Lat</th>\n",
       "    </tr>\n",
       "  </thead>\n",
       "  <tbody>\n",
       "    <tr>\n",
       "      <th>0</th>\n",
       "      <td>226323781</td>\n",
       "      <td>3/30/2021</td>\n",
       "      <td>23:45:00</td>\n",
       "      <td>QUEENS</td>\n",
       "      <td>100</td>\n",
       "      <td>0.0</td>\n",
       "      <td>MULTI DWELL - PUBLIC HOUS</td>\n",
       "      <td>False</td>\n",
       "      <td>NaN</td>\n",
       "      <td>NaN</td>\n",
       "      <td>NaN</td>\n",
       "      <td>25-44</td>\n",
       "      <td>M</td>\n",
       "      <td>BLACK</td>\n",
       "      <td>1036867</td>\n",
       "      <td>153432</td>\n",
       "      <td>40.587664</td>\n",
       "      <td>-73.810560</td>\n",
       "      <td>POINT (-73.81055977899997 40.587663570000075)</td>\n",
       "    </tr>\n",
       "    <tr>\n",
       "      <th>1</th>\n",
       "      <td>226323779</td>\n",
       "      <td>3/30/2021</td>\n",
       "      <td>16:20:00</td>\n",
       "      <td>BROOKLYN</td>\n",
       "      <td>73</td>\n",
       "      <td>2.0</td>\n",
       "      <td>MULTI DWELL - PUBLIC HOUS</td>\n",
       "      <td>False</td>\n",
       "      <td>25-44</td>\n",
       "      <td>M</td>\n",
       "      <td>BLACK</td>\n",
       "      <td>25-44</td>\n",
       "      <td>M</td>\n",
       "      <td>BLACK</td>\n",
       "      <td>1009548</td>\n",
       "      <td>187629</td>\n",
       "      <td>40.681647</td>\n",
       "      <td>-73.908790</td>\n",
       "      <td>POINT (-73.90879049699998 40.68164709200005)</td>\n",
       "    </tr>\n",
       "    <tr>\n",
       "      <th>2</th>\n",
       "      <td>226323782</td>\n",
       "      <td>3/30/2021</td>\n",
       "      <td>23:15:00</td>\n",
       "      <td>BRONX</td>\n",
       "      <td>42</td>\n",
       "      <td>2.0</td>\n",
       "      <td>MULTI DWELL - PUBLIC HOUS</td>\n",
       "      <td>False</td>\n",
       "      <td>NaN</td>\n",
       "      <td>NaN</td>\n",
       "      <td>NaN</td>\n",
       "      <td>18-24</td>\n",
       "      <td>M</td>\n",
       "      <td>BLACK</td>\n",
       "      <td>1012074</td>\n",
       "      <td>240410</td>\n",
       "      <td>40.826510</td>\n",
       "      <td>-73.899465</td>\n",
       "      <td>POINT (-73.89946470899997 40.82650984800006)</td>\n",
       "    </tr>\n",
       "    <tr>\n",
       "      <th>3</th>\n",
       "      <td>226321042</td>\n",
       "      <td>3/30/2021</td>\n",
       "      <td>13:35:00</td>\n",
       "      <td>MANHATTAN</td>\n",
       "      <td>7</td>\n",
       "      <td>0.0</td>\n",
       "      <td>NaN</td>\n",
       "      <td>False</td>\n",
       "      <td>18-24</td>\n",
       "      <td>M</td>\n",
       "      <td>BLACK</td>\n",
       "      <td>18-24</td>\n",
       "      <td>M</td>\n",
       "      <td>BLACK</td>\n",
       "      <td>987721</td>\n",
       "      <td>202253</td>\n",
       "      <td>40.721822</td>\n",
       "      <td>-73.987479</td>\n",
       "      <td>POINT (-73.98747935099993 40.72182201900005)</td>\n",
       "    </tr>\n",
       "    <tr>\n",
       "      <th>4</th>\n",
       "      <td>226320600</td>\n",
       "      <td>3/30/2021</td>\n",
       "      <td>22:23:00</td>\n",
       "      <td>BRONX</td>\n",
       "      <td>45</td>\n",
       "      <td>0.0</td>\n",
       "      <td>NaN</td>\n",
       "      <td>True</td>\n",
       "      <td>NaN</td>\n",
       "      <td>NaN</td>\n",
       "      <td>NaN</td>\n",
       "      <td>18-24</td>\n",
       "      <td>M</td>\n",
       "      <td>BLACK HISPANIC</td>\n",
       "      <td>1032091</td>\n",
       "      <td>241976</td>\n",
       "      <td>40.830722</td>\n",
       "      <td>-73.827126</td>\n",
       "      <td>POINT (-73.82712605899997 40.83072232800004)</td>\n",
       "    </tr>\n",
       "  </tbody>\n",
       "</table>\n",
       "</div>"
      ],
      "text/plain": [
       "   INCIDENT_KEY OCCUR_DATE OCCUR_TIME       BORO  PRECINCT  JURISDICTION_CODE  \\\n",
       "0     226323781  3/30/2021   23:45:00     QUEENS       100                0.0   \n",
       "1     226323779  3/30/2021   16:20:00   BROOKLYN        73                2.0   \n",
       "2     226323782  3/30/2021   23:15:00      BRONX        42                2.0   \n",
       "3     226321042  3/30/2021   13:35:00  MANHATTAN         7                0.0   \n",
       "4     226320600  3/30/2021   22:23:00      BRONX        45                0.0   \n",
       "\n",
       "               LOCATION_DESC  STATISTICAL_MURDER_FLAG PERP_AGE_GROUP PERP_SEX  \\\n",
       "0  MULTI DWELL - PUBLIC HOUS                    False            NaN      NaN   \n",
       "1  MULTI DWELL - PUBLIC HOUS                    False          25-44        M   \n",
       "2  MULTI DWELL - PUBLIC HOUS                    False            NaN      NaN   \n",
       "3                        NaN                    False          18-24        M   \n",
       "4                        NaN                     True            NaN      NaN   \n",
       "\n",
       "  PERP_RACE VIC_AGE_GROUP VIC_SEX        VIC_RACE X_COORD_CD Y_COORD_CD  \\\n",
       "0       NaN         25-44       M           BLACK    1036867     153432   \n",
       "1     BLACK         25-44       M           BLACK    1009548     187629   \n",
       "2       NaN         18-24       M           BLACK    1012074     240410   \n",
       "3     BLACK         18-24       M           BLACK     987721     202253   \n",
       "4       NaN         18-24       M  BLACK HISPANIC    1032091     241976   \n",
       "\n",
       "    Latitude  Longitude                                        Lon_Lat  \n",
       "0  40.587664 -73.810560  POINT (-73.81055977899997 40.587663570000075)  \n",
       "1  40.681647 -73.908790   POINT (-73.90879049699998 40.68164709200005)  \n",
       "2  40.826510 -73.899465   POINT (-73.89946470899997 40.82650984800006)  \n",
       "3  40.721822 -73.987479   POINT (-73.98747935099993 40.72182201900005)  \n",
       "4  40.830722 -73.827126   POINT (-73.82712605899997 40.83072232800004)  "
      ]
     },
     "execution_count": 103,
     "metadata": {},
     "output_type": "execute_result"
    }
   ],
   "source": [
    "# Drop if all values in a row are missing\n",
    "nyc_df.dropna(axis=0, how=\"all\").head()"
   ]
  },
  {
   "cell_type": "code",
   "execution_count": 104,
   "metadata": {},
   "outputs": [
    {
     "data": {
      "text/plain": [
       "INCIDENT_KEY                0.000000\n",
       "OCCUR_DATE                  0.000000\n",
       "OCCUR_TIME                  0.000000\n",
       "BORO                        0.000000\n",
       "PRECINCT                    0.000000\n",
       "JURISDICTION_CODE           0.008380\n",
       "LOCATION_DESC              57.586424\n",
       "STATISTICAL_MURDER_FLAG     0.000000\n",
       "PERP_AGE_GROUP             36.157553\n",
       "PERP_SEX                   36.015085\n",
       "PERP_RACE                  36.015085\n",
       "VIC_AGE_GROUP               0.000000\n",
       "VIC_SEX                     0.000000\n",
       "VIC_RACE                    0.000000\n",
       "X_COORD_CD                  0.000000\n",
       "Y_COORD_CD                  0.000000\n",
       "Latitude                    0.000000\n",
       "Longitude                   0.000000\n",
       "Lon_Lat                     0.000000\n",
       "dtype: float64"
      ]
     },
     "execution_count": 104,
     "metadata": {},
     "output_type": "execute_result"
    }
   ],
   "source": [
    "# Lets filter out missing values in nyc_df\n",
    "\n",
    "missing_values = nyc_df.isna().sum() / len(nyc_df) * 100\n",
    "missing_values"
   ]
  },
  {
   "cell_type": "code",
   "execution_count": 105,
   "metadata": {},
   "outputs": [
    {
     "data": {
      "application/vnd.plotly.v1+json": {
       "config": {
        "plotlyServerURL": "https://plot.ly"
       },
       "data": [
        {
         "alignmentgroup": "True",
         "hovertemplate": "variable=0<br>Percentage=%{x}<br>Column Name=%{y}<extra></extra>",
         "legendgroup": "0",
         "marker": {
          "color": "#636efa",
          "pattern": {
           "shape": "."
          }
         },
         "name": "0",
         "offsetgroup": "0",
         "orientation": "h",
         "showlegend": true,
         "textangle": 0,
         "textfont": {
          "size": 12
         },
         "textposition": "outside",
         "texttemplate": "%{x:.2s}",
         "type": "bar",
         "x": [
          0.008380473496752567,
          57.58642363293526,
          36.157552901738946,
          36.01508485229415,
          36.01508485229415
         ],
         "xaxis": "x",
         "y": [
          "JURISDICTION_CODE",
          "LOCATION_DESC",
          "PERP_AGE_GROUP",
          "PERP_SEX",
          "PERP_RACE"
         ],
         "yaxis": "y"
        }
       ],
       "layout": {
        "barmode": "relative",
        "height": 400,
        "legend": {
         "title": {
          "text": "variable"
         },
         "tracegroupgap": 0
        },
        "template": {
         "data": {
          "bar": [
           {
            "error_x": {
             "color": "#2a3f5f"
            },
            "error_y": {
             "color": "#2a3f5f"
            },
            "marker": {
             "line": {
              "color": "#E5ECF6",
              "width": 0.5
             },
             "pattern": {
              "fillmode": "overlay",
              "size": 10,
              "solidity": 0.2
             }
            },
            "type": "bar"
           }
          ],
          "barpolar": [
           {
            "marker": {
             "line": {
              "color": "#E5ECF6",
              "width": 0.5
             },
             "pattern": {
              "fillmode": "overlay",
              "size": 10,
              "solidity": 0.2
             }
            },
            "type": "barpolar"
           }
          ],
          "carpet": [
           {
            "aaxis": {
             "endlinecolor": "#2a3f5f",
             "gridcolor": "white",
             "linecolor": "white",
             "minorgridcolor": "white",
             "startlinecolor": "#2a3f5f"
            },
            "baxis": {
             "endlinecolor": "#2a3f5f",
             "gridcolor": "white",
             "linecolor": "white",
             "minorgridcolor": "white",
             "startlinecolor": "#2a3f5f"
            },
            "type": "carpet"
           }
          ],
          "choropleth": [
           {
            "colorbar": {
             "outlinewidth": 0,
             "ticks": ""
            },
            "type": "choropleth"
           }
          ],
          "contour": [
           {
            "colorbar": {
             "outlinewidth": 0,
             "ticks": ""
            },
            "colorscale": [
             [
              0,
              "#0d0887"
             ],
             [
              0.1111111111111111,
              "#46039f"
             ],
             [
              0.2222222222222222,
              "#7201a8"
             ],
             [
              0.3333333333333333,
              "#9c179e"
             ],
             [
              0.4444444444444444,
              "#bd3786"
             ],
             [
              0.5555555555555556,
              "#d8576b"
             ],
             [
              0.6666666666666666,
              "#ed7953"
             ],
             [
              0.7777777777777778,
              "#fb9f3a"
             ],
             [
              0.8888888888888888,
              "#fdca26"
             ],
             [
              1,
              "#f0f921"
             ]
            ],
            "type": "contour"
           }
          ],
          "contourcarpet": [
           {
            "colorbar": {
             "outlinewidth": 0,
             "ticks": ""
            },
            "type": "contourcarpet"
           }
          ],
          "heatmap": [
           {
            "colorbar": {
             "outlinewidth": 0,
             "ticks": ""
            },
            "colorscale": [
             [
              0,
              "#0d0887"
             ],
             [
              0.1111111111111111,
              "#46039f"
             ],
             [
              0.2222222222222222,
              "#7201a8"
             ],
             [
              0.3333333333333333,
              "#9c179e"
             ],
             [
              0.4444444444444444,
              "#bd3786"
             ],
             [
              0.5555555555555556,
              "#d8576b"
             ],
             [
              0.6666666666666666,
              "#ed7953"
             ],
             [
              0.7777777777777778,
              "#fb9f3a"
             ],
             [
              0.8888888888888888,
              "#fdca26"
             ],
             [
              1,
              "#f0f921"
             ]
            ],
            "type": "heatmap"
           }
          ],
          "heatmapgl": [
           {
            "colorbar": {
             "outlinewidth": 0,
             "ticks": ""
            },
            "colorscale": [
             [
              0,
              "#0d0887"
             ],
             [
              0.1111111111111111,
              "#46039f"
             ],
             [
              0.2222222222222222,
              "#7201a8"
             ],
             [
              0.3333333333333333,
              "#9c179e"
             ],
             [
              0.4444444444444444,
              "#bd3786"
             ],
             [
              0.5555555555555556,
              "#d8576b"
             ],
             [
              0.6666666666666666,
              "#ed7953"
             ],
             [
              0.7777777777777778,
              "#fb9f3a"
             ],
             [
              0.8888888888888888,
              "#fdca26"
             ],
             [
              1,
              "#f0f921"
             ]
            ],
            "type": "heatmapgl"
           }
          ],
          "histogram": [
           {
            "marker": {
             "pattern": {
              "fillmode": "overlay",
              "size": 10,
              "solidity": 0.2
             }
            },
            "type": "histogram"
           }
          ],
          "histogram2d": [
           {
            "colorbar": {
             "outlinewidth": 0,
             "ticks": ""
            },
            "colorscale": [
             [
              0,
              "#0d0887"
             ],
             [
              0.1111111111111111,
              "#46039f"
             ],
             [
              0.2222222222222222,
              "#7201a8"
             ],
             [
              0.3333333333333333,
              "#9c179e"
             ],
             [
              0.4444444444444444,
              "#bd3786"
             ],
             [
              0.5555555555555556,
              "#d8576b"
             ],
             [
              0.6666666666666666,
              "#ed7953"
             ],
             [
              0.7777777777777778,
              "#fb9f3a"
             ],
             [
              0.8888888888888888,
              "#fdca26"
             ],
             [
              1,
              "#f0f921"
             ]
            ],
            "type": "histogram2d"
           }
          ],
          "histogram2dcontour": [
           {
            "colorbar": {
             "outlinewidth": 0,
             "ticks": ""
            },
            "colorscale": [
             [
              0,
              "#0d0887"
             ],
             [
              0.1111111111111111,
              "#46039f"
             ],
             [
              0.2222222222222222,
              "#7201a8"
             ],
             [
              0.3333333333333333,
              "#9c179e"
             ],
             [
              0.4444444444444444,
              "#bd3786"
             ],
             [
              0.5555555555555556,
              "#d8576b"
             ],
             [
              0.6666666666666666,
              "#ed7953"
             ],
             [
              0.7777777777777778,
              "#fb9f3a"
             ],
             [
              0.8888888888888888,
              "#fdca26"
             ],
             [
              1,
              "#f0f921"
             ]
            ],
            "type": "histogram2dcontour"
           }
          ],
          "mesh3d": [
           {
            "colorbar": {
             "outlinewidth": 0,
             "ticks": ""
            },
            "type": "mesh3d"
           }
          ],
          "parcoords": [
           {
            "line": {
             "colorbar": {
              "outlinewidth": 0,
              "ticks": ""
             }
            },
            "type": "parcoords"
           }
          ],
          "pie": [
           {
            "automargin": true,
            "type": "pie"
           }
          ],
          "scatter": [
           {
            "marker": {
             "colorbar": {
              "outlinewidth": 0,
              "ticks": ""
             }
            },
            "type": "scatter"
           }
          ],
          "scatter3d": [
           {
            "line": {
             "colorbar": {
              "outlinewidth": 0,
              "ticks": ""
             }
            },
            "marker": {
             "colorbar": {
              "outlinewidth": 0,
              "ticks": ""
             }
            },
            "type": "scatter3d"
           }
          ],
          "scattercarpet": [
           {
            "marker": {
             "colorbar": {
              "outlinewidth": 0,
              "ticks": ""
             }
            },
            "type": "scattercarpet"
           }
          ],
          "scattergeo": [
           {
            "marker": {
             "colorbar": {
              "outlinewidth": 0,
              "ticks": ""
             }
            },
            "type": "scattergeo"
           }
          ],
          "scattergl": [
           {
            "marker": {
             "colorbar": {
              "outlinewidth": 0,
              "ticks": ""
             }
            },
            "type": "scattergl"
           }
          ],
          "scattermapbox": [
           {
            "marker": {
             "colorbar": {
              "outlinewidth": 0,
              "ticks": ""
             }
            },
            "type": "scattermapbox"
           }
          ],
          "scatterpolar": [
           {
            "marker": {
             "colorbar": {
              "outlinewidth": 0,
              "ticks": ""
             }
            },
            "type": "scatterpolar"
           }
          ],
          "scatterpolargl": [
           {
            "marker": {
             "colorbar": {
              "outlinewidth": 0,
              "ticks": ""
             }
            },
            "type": "scatterpolargl"
           }
          ],
          "scatterternary": [
           {
            "marker": {
             "colorbar": {
              "outlinewidth": 0,
              "ticks": ""
             }
            },
            "type": "scatterternary"
           }
          ],
          "surface": [
           {
            "colorbar": {
             "outlinewidth": 0,
             "ticks": ""
            },
            "colorscale": [
             [
              0,
              "#0d0887"
             ],
             [
              0.1111111111111111,
              "#46039f"
             ],
             [
              0.2222222222222222,
              "#7201a8"
             ],
             [
              0.3333333333333333,
              "#9c179e"
             ],
             [
              0.4444444444444444,
              "#bd3786"
             ],
             [
              0.5555555555555556,
              "#d8576b"
             ],
             [
              0.6666666666666666,
              "#ed7953"
             ],
             [
              0.7777777777777778,
              "#fb9f3a"
             ],
             [
              0.8888888888888888,
              "#fdca26"
             ],
             [
              1,
              "#f0f921"
             ]
            ],
            "type": "surface"
           }
          ],
          "table": [
           {
            "cells": {
             "fill": {
              "color": "#EBF0F8"
             },
             "line": {
              "color": "white"
             }
            },
            "header": {
             "fill": {
              "color": "#C8D4E3"
             },
             "line": {
              "color": "white"
             }
            },
            "type": "table"
           }
          ]
         },
         "layout": {
          "annotationdefaults": {
           "arrowcolor": "#2a3f5f",
           "arrowhead": 0,
           "arrowwidth": 1
          },
          "autotypenumbers": "strict",
          "coloraxis": {
           "colorbar": {
            "outlinewidth": 0,
            "ticks": ""
           }
          },
          "colorscale": {
           "diverging": [
            [
             0,
             "#8e0152"
            ],
            [
             0.1,
             "#c51b7d"
            ],
            [
             0.2,
             "#de77ae"
            ],
            [
             0.3,
             "#f1b6da"
            ],
            [
             0.4,
             "#fde0ef"
            ],
            [
             0.5,
             "#f7f7f7"
            ],
            [
             0.6,
             "#e6f5d0"
            ],
            [
             0.7,
             "#b8e186"
            ],
            [
             0.8,
             "#7fbc41"
            ],
            [
             0.9,
             "#4d9221"
            ],
            [
             1,
             "#276419"
            ]
           ],
           "sequential": [
            [
             0,
             "#0d0887"
            ],
            [
             0.1111111111111111,
             "#46039f"
            ],
            [
             0.2222222222222222,
             "#7201a8"
            ],
            [
             0.3333333333333333,
             "#9c179e"
            ],
            [
             0.4444444444444444,
             "#bd3786"
            ],
            [
             0.5555555555555556,
             "#d8576b"
            ],
            [
             0.6666666666666666,
             "#ed7953"
            ],
            [
             0.7777777777777778,
             "#fb9f3a"
            ],
            [
             0.8888888888888888,
             "#fdca26"
            ],
            [
             1,
             "#f0f921"
            ]
           ],
           "sequentialminus": [
            [
             0,
             "#0d0887"
            ],
            [
             0.1111111111111111,
             "#46039f"
            ],
            [
             0.2222222222222222,
             "#7201a8"
            ],
            [
             0.3333333333333333,
             "#9c179e"
            ],
            [
             0.4444444444444444,
             "#bd3786"
            ],
            [
             0.5555555555555556,
             "#d8576b"
            ],
            [
             0.6666666666666666,
             "#ed7953"
            ],
            [
             0.7777777777777778,
             "#fb9f3a"
            ],
            [
             0.8888888888888888,
             "#fdca26"
            ],
            [
             1,
             "#f0f921"
            ]
           ]
          },
          "colorway": [
           "#636efa",
           "#EF553B",
           "#00cc96",
           "#ab63fa",
           "#FFA15A",
           "#19d3f3",
           "#FF6692",
           "#B6E880",
           "#FF97FF",
           "#FECB52"
          ],
          "font": {
           "color": "#2a3f5f"
          },
          "geo": {
           "bgcolor": "white",
           "lakecolor": "white",
           "landcolor": "#E5ECF6",
           "showlakes": true,
           "showland": true,
           "subunitcolor": "white"
          },
          "hoverlabel": {
           "align": "left"
          },
          "hovermode": "closest",
          "mapbox": {
           "style": "light"
          },
          "paper_bgcolor": "white",
          "plot_bgcolor": "#E5ECF6",
          "polar": {
           "angularaxis": {
            "gridcolor": "white",
            "linecolor": "white",
            "ticks": ""
           },
           "bgcolor": "#E5ECF6",
           "radialaxis": {
            "gridcolor": "white",
            "linecolor": "white",
            "ticks": ""
           }
          },
          "scene": {
           "xaxis": {
            "backgroundcolor": "#E5ECF6",
            "gridcolor": "white",
            "gridwidth": 2,
            "linecolor": "white",
            "showbackground": true,
            "ticks": "",
            "zerolinecolor": "white"
           },
           "yaxis": {
            "backgroundcolor": "#E5ECF6",
            "gridcolor": "white",
            "gridwidth": 2,
            "linecolor": "white",
            "showbackground": true,
            "ticks": "",
            "zerolinecolor": "white"
           },
           "zaxis": {
            "backgroundcolor": "#E5ECF6",
            "gridcolor": "white",
            "gridwidth": 2,
            "linecolor": "white",
            "showbackground": true,
            "ticks": "",
            "zerolinecolor": "white"
           }
          },
          "shapedefaults": {
           "line": {
            "color": "#2a3f5f"
           }
          },
          "ternary": {
           "aaxis": {
            "gridcolor": "white",
            "linecolor": "white",
            "ticks": ""
           },
           "baxis": {
            "gridcolor": "white",
            "linecolor": "white",
            "ticks": ""
           },
           "bgcolor": "#E5ECF6",
           "caxis": {
            "gridcolor": "white",
            "linecolor": "white",
            "ticks": ""
           }
          },
          "title": {
           "x": 0.05
          },
          "xaxis": {
           "automargin": true,
           "gridcolor": "white",
           "linecolor": "white",
           "ticks": "",
           "title": {
            "standoff": 15
           },
           "zerolinecolor": "white",
           "zerolinewidth": 2
          },
          "yaxis": {
           "automargin": true,
           "gridcolor": "white",
           "linecolor": "white",
           "ticks": "",
           "title": {
            "standoff": 15
           },
           "zerolinecolor": "white",
           "zerolinewidth": 2
          }
         }
        },
        "title": {
         "text": "Missing Values Bar Chart"
        },
        "xaxis": {
         "anchor": "y",
         "domain": [
          0,
          1
         ],
         "title": {
          "text": "Percentage"
         }
        },
        "yaxis": {
         "anchor": "x",
         "domain": [
          0,
          1
         ],
         "title": {
          "text": "Column Name"
         }
        }
       }
      }
     },
     "metadata": {},
     "output_type": "display_data"
    }
   ],
   "source": [
    "# Missing values Horizontal Bar Chart\n",
    "\n",
    "missing_values_df = missing_values[missing_values != 0]\n",
    "\n",
    "fig = px.bar(missing_values_df, orientation='h', \n",
    "             height=400,\n",
    "             text_auto='.2s',\n",
    "             pattern_shape_sequence=[\".\"],\n",
    "             labels={'index':'Column Name', 'value': 'Percentage'},\n",
    "             title = \"Missing Values Bar Chart\")\n",
    "fig.update_traces( textfont_size=12,textangle= 0, textposition=\"outside\")\n",
    "fig.show()"
   ]
  },
  {
   "attachments": {},
   "cell_type": "markdown",
   "metadata": {},
   "source": [
    "- A considerable amount of missing data is related to the details of the perpetrators, indicating that they might not have been captured. This could be attributed to the fact that in many instances, perpetrators flee from the scene.\n"
   ]
  },
  {
   "attachments": {},
   "cell_type": "markdown",
   "metadata": {},
   "source": [
    "### Filling Missing Values\n"
   ]
  },
  {
   "cell_type": "code",
   "execution_count": 106,
   "metadata": {},
   "outputs": [],
   "source": [
    "# Fill missing values with Data Missing\n",
    "nyc_df.PERP_AGE_GROUP.fillna(\"No Age\", inplace=True)\n",
    "nyc_df.PERP_SEX.fillna(\"No Sex\", inplace=True)\n",
    "nyc_df.PERP_RACE.fillna(\"No Race\", inplace=True)"
   ]
  },
  {
   "cell_type": "code",
   "execution_count": 107,
   "metadata": {},
   "outputs": [
    {
     "data": {
      "text/html": [
       "<div>\n",
       "<style scoped>\n",
       "    .dataframe tbody tr th:only-of-type {\n",
       "        vertical-align: middle;\n",
       "    }\n",
       "\n",
       "    .dataframe tbody tr th {\n",
       "        vertical-align: top;\n",
       "    }\n",
       "\n",
       "    .dataframe thead th {\n",
       "        text-align: right;\n",
       "    }\n",
       "</style>\n",
       "<table border=\"1\" class=\"dataframe\">\n",
       "  <thead>\n",
       "    <tr style=\"text-align: right;\">\n",
       "      <th></th>\n",
       "      <th>INCIDENT_KEY</th>\n",
       "      <th>OCCUR_DATE</th>\n",
       "      <th>OCCUR_TIME</th>\n",
       "      <th>BORO</th>\n",
       "      <th>PRECINCT</th>\n",
       "      <th>JURISDICTION_CODE</th>\n",
       "      <th>LOCATION_DESC</th>\n",
       "      <th>STATISTICAL_MURDER_FLAG</th>\n",
       "      <th>PERP_AGE_GROUP</th>\n",
       "      <th>PERP_SEX</th>\n",
       "      <th>PERP_RACE</th>\n",
       "      <th>VIC_AGE_GROUP</th>\n",
       "      <th>VIC_SEX</th>\n",
       "      <th>VIC_RACE</th>\n",
       "      <th>X_COORD_CD</th>\n",
       "      <th>Y_COORD_CD</th>\n",
       "      <th>Latitude</th>\n",
       "      <th>Longitude</th>\n",
       "      <th>Lon_Lat</th>\n",
       "    </tr>\n",
       "  </thead>\n",
       "  <tbody>\n",
       "    <tr>\n",
       "      <th>0</th>\n",
       "      <td>226323781</td>\n",
       "      <td>3/30/2021</td>\n",
       "      <td>23:45:00</td>\n",
       "      <td>QUEENS</td>\n",
       "      <td>100</td>\n",
       "      <td>0.0</td>\n",
       "      <td>MULTI DWELL - PUBLIC HOUS</td>\n",
       "      <td>False</td>\n",
       "      <td>No Age</td>\n",
       "      <td>No Sex</td>\n",
       "      <td>No Race</td>\n",
       "      <td>25-44</td>\n",
       "      <td>M</td>\n",
       "      <td>BLACK</td>\n",
       "      <td>1036867</td>\n",
       "      <td>153432</td>\n",
       "      <td>40.587664</td>\n",
       "      <td>-73.810560</td>\n",
       "      <td>POINT (-73.81055977899997 40.587663570000075)</td>\n",
       "    </tr>\n",
       "    <tr>\n",
       "      <th>1</th>\n",
       "      <td>226323779</td>\n",
       "      <td>3/30/2021</td>\n",
       "      <td>16:20:00</td>\n",
       "      <td>BROOKLYN</td>\n",
       "      <td>73</td>\n",
       "      <td>2.0</td>\n",
       "      <td>MULTI DWELL - PUBLIC HOUS</td>\n",
       "      <td>False</td>\n",
       "      <td>25-44</td>\n",
       "      <td>M</td>\n",
       "      <td>BLACK</td>\n",
       "      <td>25-44</td>\n",
       "      <td>M</td>\n",
       "      <td>BLACK</td>\n",
       "      <td>1009548</td>\n",
       "      <td>187629</td>\n",
       "      <td>40.681647</td>\n",
       "      <td>-73.908790</td>\n",
       "      <td>POINT (-73.90879049699998 40.68164709200005)</td>\n",
       "    </tr>\n",
       "    <tr>\n",
       "      <th>2</th>\n",
       "      <td>226323782</td>\n",
       "      <td>3/30/2021</td>\n",
       "      <td>23:15:00</td>\n",
       "      <td>BRONX</td>\n",
       "      <td>42</td>\n",
       "      <td>2.0</td>\n",
       "      <td>MULTI DWELL - PUBLIC HOUS</td>\n",
       "      <td>False</td>\n",
       "      <td>No Age</td>\n",
       "      <td>No Sex</td>\n",
       "      <td>No Race</td>\n",
       "      <td>18-24</td>\n",
       "      <td>M</td>\n",
       "      <td>BLACK</td>\n",
       "      <td>1012074</td>\n",
       "      <td>240410</td>\n",
       "      <td>40.826510</td>\n",
       "      <td>-73.899465</td>\n",
       "      <td>POINT (-73.89946470899997 40.82650984800006)</td>\n",
       "    </tr>\n",
       "    <tr>\n",
       "      <th>3</th>\n",
       "      <td>226321042</td>\n",
       "      <td>3/30/2021</td>\n",
       "      <td>13:35:00</td>\n",
       "      <td>MANHATTAN</td>\n",
       "      <td>7</td>\n",
       "      <td>0.0</td>\n",
       "      <td>NaN</td>\n",
       "      <td>False</td>\n",
       "      <td>18-24</td>\n",
       "      <td>M</td>\n",
       "      <td>BLACK</td>\n",
       "      <td>18-24</td>\n",
       "      <td>M</td>\n",
       "      <td>BLACK</td>\n",
       "      <td>987721</td>\n",
       "      <td>202253</td>\n",
       "      <td>40.721822</td>\n",
       "      <td>-73.987479</td>\n",
       "      <td>POINT (-73.98747935099993 40.72182201900005)</td>\n",
       "    </tr>\n",
       "    <tr>\n",
       "      <th>4</th>\n",
       "      <td>226320600</td>\n",
       "      <td>3/30/2021</td>\n",
       "      <td>22:23:00</td>\n",
       "      <td>BRONX</td>\n",
       "      <td>45</td>\n",
       "      <td>0.0</td>\n",
       "      <td>NaN</td>\n",
       "      <td>True</td>\n",
       "      <td>No Age</td>\n",
       "      <td>No Sex</td>\n",
       "      <td>No Race</td>\n",
       "      <td>18-24</td>\n",
       "      <td>M</td>\n",
       "      <td>BLACK HISPANIC</td>\n",
       "      <td>1032091</td>\n",
       "      <td>241976</td>\n",
       "      <td>40.830722</td>\n",
       "      <td>-73.827126</td>\n",
       "      <td>POINT (-73.82712605899997 40.83072232800004)</td>\n",
       "    </tr>\n",
       "  </tbody>\n",
       "</table>\n",
       "</div>"
      ],
      "text/plain": [
       "   INCIDENT_KEY OCCUR_DATE OCCUR_TIME       BORO  PRECINCT  JURISDICTION_CODE  \\\n",
       "0     226323781  3/30/2021   23:45:00     QUEENS       100                0.0   \n",
       "1     226323779  3/30/2021   16:20:00   BROOKLYN        73                2.0   \n",
       "2     226323782  3/30/2021   23:15:00      BRONX        42                2.0   \n",
       "3     226321042  3/30/2021   13:35:00  MANHATTAN         7                0.0   \n",
       "4     226320600  3/30/2021   22:23:00      BRONX        45                0.0   \n",
       "\n",
       "               LOCATION_DESC  STATISTICAL_MURDER_FLAG PERP_AGE_GROUP PERP_SEX  \\\n",
       "0  MULTI DWELL - PUBLIC HOUS                    False         No Age   No Sex   \n",
       "1  MULTI DWELL - PUBLIC HOUS                    False          25-44        M   \n",
       "2  MULTI DWELL - PUBLIC HOUS                    False         No Age   No Sex   \n",
       "3                        NaN                    False          18-24        M   \n",
       "4                        NaN                     True         No Age   No Sex   \n",
       "\n",
       "  PERP_RACE VIC_AGE_GROUP VIC_SEX        VIC_RACE X_COORD_CD Y_COORD_CD  \\\n",
       "0   No Race         25-44       M           BLACK    1036867     153432   \n",
       "1     BLACK         25-44       M           BLACK    1009548     187629   \n",
       "2   No Race         18-24       M           BLACK    1012074     240410   \n",
       "3     BLACK         18-24       M           BLACK     987721     202253   \n",
       "4   No Race         18-24       M  BLACK HISPANIC    1032091     241976   \n",
       "\n",
       "    Latitude  Longitude                                        Lon_Lat  \n",
       "0  40.587664 -73.810560  POINT (-73.81055977899997 40.587663570000075)  \n",
       "1  40.681647 -73.908790   POINT (-73.90879049699998 40.68164709200005)  \n",
       "2  40.826510 -73.899465   POINT (-73.89946470899997 40.82650984800006)  \n",
       "3  40.721822 -73.987479   POINT (-73.98747935099993 40.72182201900005)  \n",
       "4  40.830722 -73.827126   POINT (-73.82712605899997 40.83072232800004)  "
      ]
     },
     "execution_count": 107,
     "metadata": {},
     "output_type": "execute_result"
    }
   ],
   "source": [
    "# Confirm if values  have  been filled\n",
    "nyc_df.head()"
   ]
  },
  {
   "attachments": {},
   "cell_type": "markdown",
   "metadata": {},
   "source": [
    "### Transformation\n"
   ]
  },
  {
   "attachments": {},
   "cell_type": "markdown",
   "metadata": {},
   "source": [
    "#### Duplicates\n"
   ]
  },
  {
   "cell_type": "code",
   "execution_count": 108,
   "metadata": {},
   "outputs": [],
   "source": [
    "# Lets check if nyc_df has duplicates\n",
    "duplicates = nyc_df.duplicated()\n"
   ]
  },
  {
   "cell_type": "code",
   "execution_count": 109,
   "metadata": {},
   "outputs": [
    {
     "data": {
      "text/plain": [
       "count     23865\n",
       "unique        1\n",
       "top       False\n",
       "freq      23865\n",
       "dtype: object"
      ]
     },
     "execution_count": 109,
     "metadata": {},
     "output_type": "execute_result"
    }
   ],
   "source": [
    "# Count duplicates and non-duplicates\n",
    "duplicates.describe()"
   ]
  },
  {
   "cell_type": "code",
   "execution_count": 110,
   "metadata": {},
   "outputs": [
    {
     "data": {
      "text/html": [
       "<div>\n",
       "<style scoped>\n",
       "    .dataframe tbody tr th:only-of-type {\n",
       "        vertical-align: middle;\n",
       "    }\n",
       "\n",
       "    .dataframe tbody tr th {\n",
       "        vertical-align: top;\n",
       "    }\n",
       "\n",
       "    .dataframe thead th {\n",
       "        text-align: right;\n",
       "    }\n",
       "</style>\n",
       "<table border=\"1\" class=\"dataframe\">\n",
       "  <thead>\n",
       "    <tr style=\"text-align: right;\">\n",
       "      <th></th>\n",
       "      <th>INCIDENT_KEY</th>\n",
       "      <th>OCCUR_DATE</th>\n",
       "      <th>OCCUR_TIME</th>\n",
       "      <th>BORO</th>\n",
       "      <th>PRECINCT</th>\n",
       "      <th>JURISDICTION_CODE</th>\n",
       "      <th>LOCATION_DESC</th>\n",
       "      <th>STATISTICAL_MURDER_FLAG</th>\n",
       "      <th>PERP_AGE_GROUP</th>\n",
       "      <th>PERP_SEX</th>\n",
       "      <th>PERP_RACE</th>\n",
       "      <th>VIC_AGE_GROUP</th>\n",
       "      <th>VIC_SEX</th>\n",
       "      <th>VIC_RACE</th>\n",
       "      <th>X_COORD_CD</th>\n",
       "      <th>Y_COORD_CD</th>\n",
       "      <th>Latitude</th>\n",
       "      <th>Longitude</th>\n",
       "      <th>Lon_Lat</th>\n",
       "    </tr>\n",
       "  </thead>\n",
       "  <tbody>\n",
       "  </tbody>\n",
       "</table>\n",
       "</div>"
      ],
      "text/plain": [
       "Empty DataFrame\n",
       "Columns: [INCIDENT_KEY, OCCUR_DATE, OCCUR_TIME, BORO, PRECINCT, JURISDICTION_CODE, LOCATION_DESC, STATISTICAL_MURDER_FLAG, PERP_AGE_GROUP, PERP_SEX, PERP_RACE, VIC_AGE_GROUP, VIC_SEX, VIC_RACE, X_COORD_CD, Y_COORD_CD, Latitude, Longitude, Lon_Lat]\n",
       "Index: []"
      ]
     },
     "execution_count": 110,
     "metadata": {},
     "output_type": "execute_result"
    }
   ],
   "source": [
    "# Extract Duplicated rows\n",
    "\n",
    "nyc_df.loc[duplicates].head()"
   ]
  },
  {
   "attachments": {},
   "cell_type": "markdown",
   "metadata": {},
   "source": [
    "- It seems that there are no duplicates, but let's write a line of code that will remove them if present.\n"
   ]
  },
  {
   "cell_type": "code",
   "execution_count": 111,
   "metadata": {},
   "outputs": [],
   "source": [
    "# Drop duplicates\n",
    "\n",
    "nyc_df.drop_duplicates(\n",
    "    keep=\"first\", inplace=True\n",
    ")  # Keep the first occurrence and drop other duplicates"
   ]
  },
  {
   "cell_type": "code",
   "execution_count": 112,
   "metadata": {},
   "outputs": [],
   "source": [
    "# drop some columns\n",
    "columns_to_drop = [\n",
    "    \"JURISDICTION_CODE\",\n",
    "    \"LOCATION_DESC\",\n",
    "    \"STATISTICAL_MURDER_FLAG\",\n",
    "    \"X_COORD_CD\",\n",
    "    \"Y_COORD_CD\",\n",
    "    \"Latitude\",\n",
    "    \"Longitude\",\n",
    "    \"Lon_Lat\",\n",
    "]\n",
    "\n",
    "nyc_df.drop(columns_to_drop, axis=1, inplace=True)"
   ]
  },
  {
   "cell_type": "code",
   "execution_count": 113,
   "metadata": {},
   "outputs": [
    {
     "data": {
      "text/html": [
       "<div>\n",
       "<style scoped>\n",
       "    .dataframe tbody tr th:only-of-type {\n",
       "        vertical-align: middle;\n",
       "    }\n",
       "\n",
       "    .dataframe tbody tr th {\n",
       "        vertical-align: top;\n",
       "    }\n",
       "\n",
       "    .dataframe thead th {\n",
       "        text-align: right;\n",
       "    }\n",
       "</style>\n",
       "<table border=\"1\" class=\"dataframe\">\n",
       "  <thead>\n",
       "    <tr style=\"text-align: right;\">\n",
       "      <th></th>\n",
       "      <th>INCIDENT_KEY</th>\n",
       "      <th>OCCUR_DATE</th>\n",
       "      <th>OCCUR_TIME</th>\n",
       "      <th>BORO</th>\n",
       "      <th>PRECINCT</th>\n",
       "      <th>PERP_AGE_GROUP</th>\n",
       "      <th>PERP_SEX</th>\n",
       "      <th>PERP_RACE</th>\n",
       "      <th>VIC_AGE_GROUP</th>\n",
       "      <th>VIC_SEX</th>\n",
       "      <th>VIC_RACE</th>\n",
       "    </tr>\n",
       "  </thead>\n",
       "  <tbody>\n",
       "    <tr>\n",
       "      <th>0</th>\n",
       "      <td>226323781</td>\n",
       "      <td>3/30/2021</td>\n",
       "      <td>23:45:00</td>\n",
       "      <td>QUEENS</td>\n",
       "      <td>100</td>\n",
       "      <td>No Age</td>\n",
       "      <td>No Sex</td>\n",
       "      <td>No Race</td>\n",
       "      <td>25-44</td>\n",
       "      <td>M</td>\n",
       "      <td>BLACK</td>\n",
       "    </tr>\n",
       "    <tr>\n",
       "      <th>1</th>\n",
       "      <td>226323779</td>\n",
       "      <td>3/30/2021</td>\n",
       "      <td>16:20:00</td>\n",
       "      <td>BROOKLYN</td>\n",
       "      <td>73</td>\n",
       "      <td>25-44</td>\n",
       "      <td>M</td>\n",
       "      <td>BLACK</td>\n",
       "      <td>25-44</td>\n",
       "      <td>M</td>\n",
       "      <td>BLACK</td>\n",
       "    </tr>\n",
       "    <tr>\n",
       "      <th>2</th>\n",
       "      <td>226323782</td>\n",
       "      <td>3/30/2021</td>\n",
       "      <td>23:15:00</td>\n",
       "      <td>BRONX</td>\n",
       "      <td>42</td>\n",
       "      <td>No Age</td>\n",
       "      <td>No Sex</td>\n",
       "      <td>No Race</td>\n",
       "      <td>18-24</td>\n",
       "      <td>M</td>\n",
       "      <td>BLACK</td>\n",
       "    </tr>\n",
       "    <tr>\n",
       "      <th>3</th>\n",
       "      <td>226321042</td>\n",
       "      <td>3/30/2021</td>\n",
       "      <td>13:35:00</td>\n",
       "      <td>MANHATTAN</td>\n",
       "      <td>7</td>\n",
       "      <td>18-24</td>\n",
       "      <td>M</td>\n",
       "      <td>BLACK</td>\n",
       "      <td>18-24</td>\n",
       "      <td>M</td>\n",
       "      <td>BLACK</td>\n",
       "    </tr>\n",
       "    <tr>\n",
       "      <th>4</th>\n",
       "      <td>226320600</td>\n",
       "      <td>3/30/2021</td>\n",
       "      <td>22:23:00</td>\n",
       "      <td>BRONX</td>\n",
       "      <td>45</td>\n",
       "      <td>No Age</td>\n",
       "      <td>No Sex</td>\n",
       "      <td>No Race</td>\n",
       "      <td>18-24</td>\n",
       "      <td>M</td>\n",
       "      <td>BLACK HISPANIC</td>\n",
       "    </tr>\n",
       "  </tbody>\n",
       "</table>\n",
       "</div>"
      ],
      "text/plain": [
       "   INCIDENT_KEY OCCUR_DATE OCCUR_TIME       BORO  PRECINCT PERP_AGE_GROUP  \\\n",
       "0     226323781  3/30/2021   23:45:00     QUEENS       100         No Age   \n",
       "1     226323779  3/30/2021   16:20:00   BROOKLYN        73          25-44   \n",
       "2     226323782  3/30/2021   23:15:00      BRONX        42         No Age   \n",
       "3     226321042  3/30/2021   13:35:00  MANHATTAN         7          18-24   \n",
       "4     226320600  3/30/2021   22:23:00      BRONX        45         No Age   \n",
       "\n",
       "  PERP_SEX PERP_RACE VIC_AGE_GROUP VIC_SEX        VIC_RACE  \n",
       "0   No Sex   No Race         25-44       M           BLACK  \n",
       "1        M     BLACK         25-44       M           BLACK  \n",
       "2   No Sex   No Race         18-24       M           BLACK  \n",
       "3        M     BLACK         18-24       M           BLACK  \n",
       "4   No Sex   No Race         18-24       M  BLACK HISPANIC  "
      ]
     },
     "execution_count": 113,
     "metadata": {},
     "output_type": "execute_result"
    }
   ],
   "source": [
    "nyc_df.head(5)\n"
   ]
  },
  {
   "cell_type": "code",
   "execution_count": 114,
   "metadata": {},
   "outputs": [
    {
     "name": "stdout",
     "output_type": "stream",
     "text": [
      "<class 'pandas.core.frame.DataFrame'>\n",
      "Int64Index: 23865 entries, 0 to 23864\n",
      "Data columns (total 11 columns):\n",
      " #   Column          Non-Null Count  Dtype \n",
      "---  ------          --------------  ----- \n",
      " 0   INCIDENT_KEY    23865 non-null  int64 \n",
      " 1   OCCUR_DATE      23865 non-null  object\n",
      " 2   OCCUR_TIME      23865 non-null  object\n",
      " 3   BORO            23865 non-null  object\n",
      " 4   PRECINCT        23865 non-null  int64 \n",
      " 5   PERP_AGE_GROUP  23865 non-null  object\n",
      " 6   PERP_SEX        23865 non-null  object\n",
      " 7   PERP_RACE       23865 non-null  object\n",
      " 8   VIC_AGE_GROUP   23865 non-null  object\n",
      " 9   VIC_SEX         23865 non-null  object\n",
      " 10  VIC_RACE        23865 non-null  object\n",
      "dtypes: int64(2), object(9)\n",
      "memory usage: 2.2+ MB\n"
     ]
    }
   ],
   "source": [
    "# Summary of the nyc_df\n",
    "nyc_df.info()"
   ]
  },
  {
   "cell_type": "code",
   "execution_count": 115,
   "metadata": {},
   "outputs": [
    {
     "data": {
      "text/plain": [
       "(23865, 11)"
      ]
     },
     "execution_count": 115,
     "metadata": {},
     "output_type": "execute_result"
    }
   ],
   "source": [
    "# Dimensionality of the nyc_df\n",
    "nyc_df.shape"
   ]
  },
  {
   "cell_type": "code",
   "execution_count": 116,
   "metadata": {},
   "outputs": [
    {
     "data": {
      "text/plain": [
       "array(['QUEENS', 'BROOKLYN', 'BRONX', 'MANHATTAN', 'STATEN ISLAND'],\n",
       "      dtype=object)"
      ]
     },
     "execution_count": 116,
     "metadata": {},
     "output_type": "execute_result"
    }
   ],
   "source": [
    "# Unique Values in Borough\n",
    "nyc_df.BORO.unique()"
   ]
  },
  {
   "cell_type": "code",
   "execution_count": 117,
   "metadata": {},
   "outputs": [
    {
     "data": {
      "text/plain": [
       "5"
      ]
     },
     "execution_count": 117,
     "metadata": {},
     "output_type": "execute_result"
    }
   ],
   "source": [
    "# Number of unique values in BORO Column\n",
    "nyc_df.BORO.nunique()"
   ]
  },
  {
   "attachments": {},
   "cell_type": "markdown",
   "metadata": {},
   "source": [
    "- According to the dataset, all five boroughs of New York City have experienced incidents of shootings, indicating that the issue of gun violence is a pervasive problem throughout most of the city.\n"
   ]
  },
  {
   "cell_type": "code",
   "execution_count": 118,
   "metadata": {},
   "outputs": [],
   "source": [
    "# Change Date and  Time Column Names\n",
    "\n",
    "nyc_df.rename(columns={\"OCCUR_DATE\": \"DATE\", \"OCCUR_TIME\": \"TIME\"}, inplace=True)"
   ]
  },
  {
   "cell_type": "code",
   "execution_count": 119,
   "metadata": {},
   "outputs": [
    {
     "data": {
      "text/html": [
       "<div>\n",
       "<style scoped>\n",
       "    .dataframe tbody tr th:only-of-type {\n",
       "        vertical-align: middle;\n",
       "    }\n",
       "\n",
       "    .dataframe tbody tr th {\n",
       "        vertical-align: top;\n",
       "    }\n",
       "\n",
       "    .dataframe thead th {\n",
       "        text-align: right;\n",
       "    }\n",
       "</style>\n",
       "<table border=\"1\" class=\"dataframe\">\n",
       "  <thead>\n",
       "    <tr style=\"text-align: right;\">\n",
       "      <th></th>\n",
       "      <th>INCIDENT_KEY</th>\n",
       "      <th>DATE</th>\n",
       "      <th>TIME</th>\n",
       "      <th>BORO</th>\n",
       "      <th>PRECINCT</th>\n",
       "      <th>PERP_AGE_GROUP</th>\n",
       "      <th>PERP_SEX</th>\n",
       "      <th>PERP_RACE</th>\n",
       "      <th>VIC_AGE_GROUP</th>\n",
       "      <th>VIC_SEX</th>\n",
       "      <th>VIC_RACE</th>\n",
       "    </tr>\n",
       "  </thead>\n",
       "  <tbody>\n",
       "    <tr>\n",
       "      <th>0</th>\n",
       "      <td>226323781</td>\n",
       "      <td>3/30/2021</td>\n",
       "      <td>23:45:00</td>\n",
       "      <td>QUEENS</td>\n",
       "      <td>100</td>\n",
       "      <td>No Age</td>\n",
       "      <td>No Sex</td>\n",
       "      <td>No Race</td>\n",
       "      <td>25-44</td>\n",
       "      <td>M</td>\n",
       "      <td>BLACK</td>\n",
       "    </tr>\n",
       "    <tr>\n",
       "      <th>1</th>\n",
       "      <td>226323779</td>\n",
       "      <td>3/30/2021</td>\n",
       "      <td>16:20:00</td>\n",
       "      <td>BROOKLYN</td>\n",
       "      <td>73</td>\n",
       "      <td>25-44</td>\n",
       "      <td>M</td>\n",
       "      <td>BLACK</td>\n",
       "      <td>25-44</td>\n",
       "      <td>M</td>\n",
       "      <td>BLACK</td>\n",
       "    </tr>\n",
       "    <tr>\n",
       "      <th>2</th>\n",
       "      <td>226323782</td>\n",
       "      <td>3/30/2021</td>\n",
       "      <td>23:15:00</td>\n",
       "      <td>BRONX</td>\n",
       "      <td>42</td>\n",
       "      <td>No Age</td>\n",
       "      <td>No Sex</td>\n",
       "      <td>No Race</td>\n",
       "      <td>18-24</td>\n",
       "      <td>M</td>\n",
       "      <td>BLACK</td>\n",
       "    </tr>\n",
       "  </tbody>\n",
       "</table>\n",
       "</div>"
      ],
      "text/plain": [
       "   INCIDENT_KEY       DATE      TIME      BORO  PRECINCT PERP_AGE_GROUP  \\\n",
       "0     226323781  3/30/2021  23:45:00    QUEENS       100         No Age   \n",
       "1     226323779  3/30/2021  16:20:00  BROOKLYN        73          25-44   \n",
       "2     226323782  3/30/2021  23:15:00     BRONX        42         No Age   \n",
       "\n",
       "  PERP_SEX PERP_RACE VIC_AGE_GROUP VIC_SEX VIC_RACE  \n",
       "0   No Sex   No Race         25-44       M    BLACK  \n",
       "1        M     BLACK         25-44       M    BLACK  \n",
       "2   No Sex   No Race         18-24       M    BLACK  "
      ]
     },
     "execution_count": 119,
     "metadata": {},
     "output_type": "execute_result"
    }
   ],
   "source": [
    "nyc_df.head(3)\n"
   ]
  },
  {
   "cell_type": "code",
   "execution_count": 120,
   "metadata": {},
   "outputs": [
    {
     "data": {
      "text/plain": [
       "0        3/30/2021\n",
       "1        3/30/2021\n",
       "2        3/30/2021\n",
       "3        3/30/2021\n",
       "4        3/30/2021\n",
       "           ...    \n",
       "23860     1/1/2006\n",
       "23861     1/1/2006\n",
       "23862     1/1/2006\n",
       "23863     1/1/2006\n",
       "23864     1/1/2006\n",
       "Name: DATE, Length: 23865, dtype: object"
      ]
     },
     "execution_count": 120,
     "metadata": {},
     "output_type": "execute_result"
    }
   ],
   "source": [
    "# Convert date column to datetime\n",
    "\n",
    "nyc_df.DATE"
   ]
  },
  {
   "cell_type": "code",
   "execution_count": 121,
   "metadata": {},
   "outputs": [],
   "source": [
    "# Convert date column\n",
    "nyc_df[\"DATE\"] = pd.to_datetime(nyc_df.DATE)"
   ]
  },
  {
   "cell_type": "code",
   "execution_count": 122,
   "metadata": {},
   "outputs": [],
   "source": [
    "# Extract Date time values to different columns\n",
    "\n",
    "nyc_df[\"YEAR\"] = pd.DatetimeIndex(nyc_df.DATE).year\n",
    "nyc_df[\"MONTH\"] = pd.DatetimeIndex(nyc_df.DATE).month\n",
    "nyc_df[\"DAY\"] = pd.DatetimeIndex(nyc_df.DATE).day\n",
    "nyc_df[\"WEEKDAY\"] = pd.DatetimeIndex(nyc_df.DATE).weekday"
   ]
  },
  {
   "cell_type": "code",
   "execution_count": 123,
   "metadata": {},
   "outputs": [],
   "source": [
    "# Convert Time column\n",
    "nyc_df[\"HOUR\"] = pd.DatetimeIndex(nyc_df.TIME).hour"
   ]
  },
  {
   "cell_type": "code",
   "execution_count": 124,
   "metadata": {},
   "outputs": [
    {
     "data": {
      "text/html": [
       "<div>\n",
       "<style scoped>\n",
       "    .dataframe tbody tr th:only-of-type {\n",
       "        vertical-align: middle;\n",
       "    }\n",
       "\n",
       "    .dataframe tbody tr th {\n",
       "        vertical-align: top;\n",
       "    }\n",
       "\n",
       "    .dataframe thead th {\n",
       "        text-align: right;\n",
       "    }\n",
       "</style>\n",
       "<table border=\"1\" class=\"dataframe\">\n",
       "  <thead>\n",
       "    <tr style=\"text-align: right;\">\n",
       "      <th></th>\n",
       "      <th>INCIDENT_KEY</th>\n",
       "      <th>DATE</th>\n",
       "      <th>TIME</th>\n",
       "      <th>BORO</th>\n",
       "      <th>PRECINCT</th>\n",
       "      <th>PERP_AGE_GROUP</th>\n",
       "      <th>PERP_SEX</th>\n",
       "      <th>PERP_RACE</th>\n",
       "      <th>VIC_AGE_GROUP</th>\n",
       "      <th>VIC_SEX</th>\n",
       "      <th>VIC_RACE</th>\n",
       "      <th>YEAR</th>\n",
       "      <th>MONTH</th>\n",
       "      <th>DAY</th>\n",
       "      <th>WEEKDAY</th>\n",
       "      <th>HOUR</th>\n",
       "    </tr>\n",
       "  </thead>\n",
       "  <tbody>\n",
       "    <tr>\n",
       "      <th>0</th>\n",
       "      <td>226323781</td>\n",
       "      <td>2021-03-30</td>\n",
       "      <td>23:45:00</td>\n",
       "      <td>QUEENS</td>\n",
       "      <td>100</td>\n",
       "      <td>No Age</td>\n",
       "      <td>No Sex</td>\n",
       "      <td>No Race</td>\n",
       "      <td>25-44</td>\n",
       "      <td>M</td>\n",
       "      <td>BLACK</td>\n",
       "      <td>2021</td>\n",
       "      <td>3</td>\n",
       "      <td>30</td>\n",
       "      <td>1</td>\n",
       "      <td>23</td>\n",
       "    </tr>\n",
       "    <tr>\n",
       "      <th>1</th>\n",
       "      <td>226323779</td>\n",
       "      <td>2021-03-30</td>\n",
       "      <td>16:20:00</td>\n",
       "      <td>BROOKLYN</td>\n",
       "      <td>73</td>\n",
       "      <td>25-44</td>\n",
       "      <td>M</td>\n",
       "      <td>BLACK</td>\n",
       "      <td>25-44</td>\n",
       "      <td>M</td>\n",
       "      <td>BLACK</td>\n",
       "      <td>2021</td>\n",
       "      <td>3</td>\n",
       "      <td>30</td>\n",
       "      <td>1</td>\n",
       "      <td>16</td>\n",
       "    </tr>\n",
       "    <tr>\n",
       "      <th>2</th>\n",
       "      <td>226323782</td>\n",
       "      <td>2021-03-30</td>\n",
       "      <td>23:15:00</td>\n",
       "      <td>BRONX</td>\n",
       "      <td>42</td>\n",
       "      <td>No Age</td>\n",
       "      <td>No Sex</td>\n",
       "      <td>No Race</td>\n",
       "      <td>18-24</td>\n",
       "      <td>M</td>\n",
       "      <td>BLACK</td>\n",
       "      <td>2021</td>\n",
       "      <td>3</td>\n",
       "      <td>30</td>\n",
       "      <td>1</td>\n",
       "      <td>23</td>\n",
       "    </tr>\n",
       "    <tr>\n",
       "      <th>3</th>\n",
       "      <td>226321042</td>\n",
       "      <td>2021-03-30</td>\n",
       "      <td>13:35:00</td>\n",
       "      <td>MANHATTAN</td>\n",
       "      <td>7</td>\n",
       "      <td>18-24</td>\n",
       "      <td>M</td>\n",
       "      <td>BLACK</td>\n",
       "      <td>18-24</td>\n",
       "      <td>M</td>\n",
       "      <td>BLACK</td>\n",
       "      <td>2021</td>\n",
       "      <td>3</td>\n",
       "      <td>30</td>\n",
       "      <td>1</td>\n",
       "      <td>13</td>\n",
       "    </tr>\n",
       "    <tr>\n",
       "      <th>4</th>\n",
       "      <td>226320600</td>\n",
       "      <td>2021-03-30</td>\n",
       "      <td>22:23:00</td>\n",
       "      <td>BRONX</td>\n",
       "      <td>45</td>\n",
       "      <td>No Age</td>\n",
       "      <td>No Sex</td>\n",
       "      <td>No Race</td>\n",
       "      <td>18-24</td>\n",
       "      <td>M</td>\n",
       "      <td>BLACK HISPANIC</td>\n",
       "      <td>2021</td>\n",
       "      <td>3</td>\n",
       "      <td>30</td>\n",
       "      <td>1</td>\n",
       "      <td>22</td>\n",
       "    </tr>\n",
       "    <tr>\n",
       "      <th>...</th>\n",
       "      <td>...</td>\n",
       "      <td>...</td>\n",
       "      <td>...</td>\n",
       "      <td>...</td>\n",
       "      <td>...</td>\n",
       "      <td>...</td>\n",
       "      <td>...</td>\n",
       "      <td>...</td>\n",
       "      <td>...</td>\n",
       "      <td>...</td>\n",
       "      <td>...</td>\n",
       "      <td>...</td>\n",
       "      <td>...</td>\n",
       "      <td>...</td>\n",
       "      <td>...</td>\n",
       "      <td>...</td>\n",
       "    </tr>\n",
       "    <tr>\n",
       "      <th>23860</th>\n",
       "      <td>9953252</td>\n",
       "      <td>2006-01-01</td>\n",
       "      <td>2:22:00</td>\n",
       "      <td>MANHATTAN</td>\n",
       "      <td>28</td>\n",
       "      <td>25-44</td>\n",
       "      <td>M</td>\n",
       "      <td>BLACK</td>\n",
       "      <td>25-44</td>\n",
       "      <td>M</td>\n",
       "      <td>BLACK</td>\n",
       "      <td>2006</td>\n",
       "      <td>1</td>\n",
       "      <td>1</td>\n",
       "      <td>6</td>\n",
       "      <td>2</td>\n",
       "    </tr>\n",
       "    <tr>\n",
       "      <th>23861</th>\n",
       "      <td>139716503</td>\n",
       "      <td>2006-01-01</td>\n",
       "      <td>12:30:00</td>\n",
       "      <td>BROOKLYN</td>\n",
       "      <td>77</td>\n",
       "      <td>No Age</td>\n",
       "      <td>No Sex</td>\n",
       "      <td>No Race</td>\n",
       "      <td>25-44</td>\n",
       "      <td>M</td>\n",
       "      <td>BLACK</td>\n",
       "      <td>2006</td>\n",
       "      <td>1</td>\n",
       "      <td>1</td>\n",
       "      <td>6</td>\n",
       "      <td>12</td>\n",
       "    </tr>\n",
       "    <tr>\n",
       "      <th>23862</th>\n",
       "      <td>9953246</td>\n",
       "      <td>2006-01-01</td>\n",
       "      <td>5:51:00</td>\n",
       "      <td>BRONX</td>\n",
       "      <td>44</td>\n",
       "      <td>25-44</td>\n",
       "      <td>M</td>\n",
       "      <td>WHITE HISPANIC</td>\n",
       "      <td>18-24</td>\n",
       "      <td>M</td>\n",
       "      <td>WHITE HISPANIC</td>\n",
       "      <td>2006</td>\n",
       "      <td>1</td>\n",
       "      <td>1</td>\n",
       "      <td>6</td>\n",
       "      <td>5</td>\n",
       "    </tr>\n",
       "    <tr>\n",
       "      <th>23863</th>\n",
       "      <td>9953247</td>\n",
       "      <td>2006-01-01</td>\n",
       "      <td>3:30:00</td>\n",
       "      <td>BROOKLYN</td>\n",
       "      <td>67</td>\n",
       "      <td>UNKNOWN</td>\n",
       "      <td>U</td>\n",
       "      <td>UNKNOWN</td>\n",
       "      <td>18-24</td>\n",
       "      <td>M</td>\n",
       "      <td>BLACK</td>\n",
       "      <td>2006</td>\n",
       "      <td>1</td>\n",
       "      <td>1</td>\n",
       "      <td>6</td>\n",
       "      <td>3</td>\n",
       "    </tr>\n",
       "    <tr>\n",
       "      <th>23864</th>\n",
       "      <td>9953245</td>\n",
       "      <td>2006-01-01</td>\n",
       "      <td>2:00:00</td>\n",
       "      <td>BRONX</td>\n",
       "      <td>48</td>\n",
       "      <td>18-24</td>\n",
       "      <td>M</td>\n",
       "      <td>BLACK</td>\n",
       "      <td>&lt;18</td>\n",
       "      <td>M</td>\n",
       "      <td>BLACK</td>\n",
       "      <td>2006</td>\n",
       "      <td>1</td>\n",
       "      <td>1</td>\n",
       "      <td>6</td>\n",
       "      <td>2</td>\n",
       "    </tr>\n",
       "  </tbody>\n",
       "</table>\n",
       "<p>23865 rows × 16 columns</p>\n",
       "</div>"
      ],
      "text/plain": [
       "       INCIDENT_KEY       DATE      TIME       BORO  PRECINCT PERP_AGE_GROUP  \\\n",
       "0         226323781 2021-03-30  23:45:00     QUEENS       100         No Age   \n",
       "1         226323779 2021-03-30  16:20:00   BROOKLYN        73          25-44   \n",
       "2         226323782 2021-03-30  23:15:00      BRONX        42         No Age   \n",
       "3         226321042 2021-03-30  13:35:00  MANHATTAN         7          18-24   \n",
       "4         226320600 2021-03-30  22:23:00      BRONX        45         No Age   \n",
       "...             ...        ...       ...        ...       ...            ...   \n",
       "23860       9953252 2006-01-01   2:22:00  MANHATTAN        28          25-44   \n",
       "23861     139716503 2006-01-01  12:30:00   BROOKLYN        77         No Age   \n",
       "23862       9953246 2006-01-01   5:51:00      BRONX        44          25-44   \n",
       "23863       9953247 2006-01-01   3:30:00   BROOKLYN        67        UNKNOWN   \n",
       "23864       9953245 2006-01-01   2:00:00      BRONX        48          18-24   \n",
       "\n",
       "      PERP_SEX       PERP_RACE VIC_AGE_GROUP VIC_SEX        VIC_RACE  YEAR  \\\n",
       "0       No Sex         No Race         25-44       M           BLACK  2021   \n",
       "1            M           BLACK         25-44       M           BLACK  2021   \n",
       "2       No Sex         No Race         18-24       M           BLACK  2021   \n",
       "3            M           BLACK         18-24       M           BLACK  2021   \n",
       "4       No Sex         No Race         18-24       M  BLACK HISPANIC  2021   \n",
       "...        ...             ...           ...     ...             ...   ...   \n",
       "23860        M           BLACK         25-44       M           BLACK  2006   \n",
       "23861   No Sex         No Race         25-44       M           BLACK  2006   \n",
       "23862        M  WHITE HISPANIC         18-24       M  WHITE HISPANIC  2006   \n",
       "23863        U         UNKNOWN         18-24       M           BLACK  2006   \n",
       "23864        M           BLACK           <18       M           BLACK  2006   \n",
       "\n",
       "       MONTH  DAY  WEEKDAY  HOUR  \n",
       "0          3   30        1    23  \n",
       "1          3   30        1    16  \n",
       "2          3   30        1    23  \n",
       "3          3   30        1    13  \n",
       "4          3   30        1    22  \n",
       "...      ...  ...      ...   ...  \n",
       "23860      1    1        6     2  \n",
       "23861      1    1        6    12  \n",
       "23862      1    1        6     5  \n",
       "23863      1    1        6     3  \n",
       "23864      1    1        6     2  \n",
       "\n",
       "[23865 rows x 16 columns]"
      ]
     },
     "execution_count": 124,
     "metadata": {},
     "output_type": "execute_result"
    }
   ],
   "source": [
    "nyc_df\n"
   ]
  },
  {
   "attachments": {},
   "cell_type": "markdown",
   "metadata": {},
   "source": [
    "## Exploratory Analysis and Visualization\n"
   ]
  },
  {
   "attachments": {},
   "cell_type": "markdown",
   "metadata": {},
   "source": [
    "#### Q : Which borough has the highest number of recorded incidents?\n"
   ]
  },
  {
   "cell_type": "code",
   "execution_count": 125,
   "metadata": {},
   "outputs": [
    {
     "data": {
      "text/plain": [
       "BROOKLYN         9826\n",
       "BRONX            6794\n",
       "QUEENS           3568\n",
       "MANHATTAN        2974\n",
       "STATEN ISLAND     703\n",
       "Name: BORO, dtype: int64"
      ]
     },
     "execution_count": 125,
     "metadata": {},
     "output_type": "execute_result"
    }
   ],
   "source": [
    "# Borough with most shooting incidences\n",
    "nyc_df.BORO.value_counts()"
   ]
  },
  {
   "cell_type": "code",
   "execution_count": 126,
   "metadata": {},
   "outputs": [
    {
     "data": {
      "text/plain": [
       "Text(0, 0.5, 'INCIDENCES')"
      ]
     },
     "execution_count": 126,
     "metadata": {},
     "output_type": "execute_result"
    },
    {
     "data": {
      "image/png": "[encoded data removed]",
      "text/plain": [
       "<Figure size 720x360 with 1 Axes>"
      ]
     },
     "metadata": {
      "needs_background": "light"
     },
     "output_type": "display_data"
    }
   ],
   "source": [
    "# Incidences in various BOROS bar graph\n",
    "\n",
    "x_axis = nyc_df.BORO.value_counts().index\n",
    "y_axis = nyc_df.BORO.value_counts()\n",
    "\n",
    "sns.barplot(x=x_axis, y=y_axis)\n",
    "\n",
    "plt.title(\"BAR CHART:INCIDENCES IN VARIOUS BOROUGHS\")\n",
    "plt.xlabel(\"BOROUGH\")\n",
    "plt.ylabel(\"INCIDENCES\")"
   ]
  },
  {
   "attachments": {},
   "cell_type": "markdown",
   "metadata": {},
   "source": [
    "- According to the data, Brooklyn has the highest number of incidents, indicating that law enforcement officials should increase their presence in the borough. Given that the occurrence of significant incidents is most frequent in Brooklyn, it is imperative for law enforcers to step up their efforts there.\n"
   ]
  },
  {
   "attachments": {},
   "cell_type": "markdown",
   "metadata": {},
   "source": [
    "#### Q : Which precinct has the highest number of recorded incidents?\n"
   ]
  },
  {
   "cell_type": "code",
   "execution_count": 127,
   "metadata": {},
   "outputs": [
    {
     "data": {
      "text/plain": [
       "77"
      ]
     },
     "execution_count": 127,
     "metadata": {},
     "output_type": "execute_result"
    }
   ],
   "source": [
    "# Total number of precincts\n",
    "nyc_df.PRECINCT.nunique()"
   ]
  },
  {
   "cell_type": "code",
   "execution_count": 128,
   "metadata": {},
   "outputs": [
    {
     "name": "stdout",
     "output_type": "stream",
     "text": [
      "New York City has a total number of 77 precincts\n"
     ]
    }
   ],
   "source": [
    "print(\n",
    "    \"New York City has a total number of {} precincts\".format(nyc_df.PRECINCT.nunique())\n",
    ")"
   ]
  },
  {
   "cell_type": "code",
   "execution_count": 129,
   "metadata": {},
   "outputs": [
    {
     "data": {
      "text/plain": [
       "75     1386\n",
       "73     1297\n",
       "67     1108\n",
       "79      926\n",
       "44      855\n",
       "       ... \n",
       "112      19\n",
       "19       12\n",
       "111       6\n",
       "17        6\n",
       "22        1\n",
       "Name: PRECINCT, Length: 77, dtype: int64"
      ]
     },
     "execution_count": 129,
     "metadata": {},
     "output_type": "execute_result"
    }
   ],
   "source": [
    "# Precinct with highest number  of incidences\n",
    "\n",
    "nyc_df.PRECINCT.value_counts()"
   ]
  },
  {
   "cell_type": "code",
   "execution_count": 130,
   "metadata": {},
   "outputs": [
    {
     "data": {
      "text/plain": [
       "Text(0, 0.5, 'INCIDENCES')"
      ]
     },
     "execution_count": 130,
     "metadata": {},
     "output_type": "execute_result"
    },
    {
     "data": {
      "image/png": "[encoded data removed]",
      "text/plain": [
       "<Figure size 720x360 with 1 Axes>"
      ]
     },
     "metadata": {
      "needs_background": "light"
     },
     "output_type": "display_data"
    }
   ],
   "source": [
    "x_axis = nyc_df.PRECINCT.value_counts().head(10).index\n",
    "y_axis = nyc_df.PRECINCT.value_counts().head(10)\n",
    "\n",
    "sns.barplot(x=x_axis, y=y_axis)\n",
    "\n",
    "plt.title(\" BAR CHART: TOP 10 PRECINCTS WITH  MOST INCIDENCES\", fontsize=12)\n",
    "plt.xlabel(\"PRECINCT\", fontsize=12)\n",
    "plt.ylabel(\"INCIDENCES\", fontsize=12)"
   ]
  },
  {
   "attachments": {},
   "cell_type": "markdown",
   "metadata": {},
   "source": [
    "* According to the data, the 75th precinct has the highest number of incidents, indicating a need for increased law enforcement presence in the area."
   ]
  },
  {
   "attachments": {},
   "cell_type": "markdown",
   "metadata": {},
   "source": [
    "#### Q: What year had the highest number of recorded incidents?"
   ]
  },
  {
   "cell_type": "code",
   "execution_count": 131,
   "metadata": {},
   "outputs": [
    {
     "data": {
      "text/plain": [
       "2006    2055\n",
       "2008    1958\n",
       "2020    1942\n",
       "2011    1939\n",
       "2010    1910\n",
       "Name: YEAR, dtype: int64"
      ]
     },
     "execution_count": 131,
     "metadata": {},
     "output_type": "execute_result"
    }
   ],
   "source": [
    "#Year with most incidences\n",
    "\n",
    "nyc_df.YEAR.value_counts().sort_values(ascending = False).head()"
   ]
  },
  {
   "cell_type": "code",
   "execution_count": 132,
   "metadata": {},
   "outputs": [],
   "source": [
    "year = nyc_df.YEAR.value_counts().index\n",
    "incidences_per_year = nyc_df.YEAR.value_counts()\n"
   ]
  },
  {
   "cell_type": "code",
   "execution_count": 133,
   "metadata": {},
   "outputs": [
    {
     "data": {
      "image/png": "[encoded data removed]",
      "text/plain": [
       "<Figure size 720x360 with 1 Axes>"
      ]
     },
     "metadata": {
      "needs_background": "light"
     },
     "output_type": "display_data"
    }
   ],
   "source": [
    "year = nyc_df.YEAR.value_counts().index\n",
    "incidences_per_year = nyc_df.YEAR.value_counts()\n",
    "\n",
    "\n",
    "\n",
    "sns.lineplot(x = year,y = incidences_per_year)\n",
    "\n",
    "plt.title(\"LINE GRAPH: NUMBER OF INCIDENCS PER YEAR \",fontsize = 12)\n",
    "plt.xlabel(\"YEAR\",fontsize = 12)\n",
    "plt.ylabel(\"NUMBER INCIDENCES\",fontsize = 12);"
   ]
  },
  {
   "cell_type": "markdown",
   "metadata": {},
   "source": [
    "- The number of incidents has been decreasing over the years. However, it is worth noting that the data frame only includes data up to March 2021, which accounts for the low number of incidents in that year."
   ]
  },
  {
   "cell_type": "code",
   "execution_count": 134,
   "metadata": {},
   "outputs": [
    {
     "data": {
      "text/plain": [
       "array([3, 2, 1], dtype=int64)"
      ]
     },
     "execution_count": 134,
     "metadata": {},
     "output_type": "execute_result"
    }
   ],
   "source": [
    "#2021 unique values\n",
    "\n",
    "df_2021 = nyc_df[nyc_df.YEAR == 2021] #2021 dataframe\n",
    "df_2021.MONTH.unique() #Month in the 2021 data frame"
   ]
  },
  {
   "attachments": {},
   "cell_type": "markdown",
   "metadata": {},
   "source": [
    "#### Q: What age group is most likely to commit an offense?"
   ]
  },
  {
   "cell_type": "code",
   "execution_count": 135,
   "metadata": {},
   "outputs": [
    {
     "data": {
      "text/plain": [
       "array(['25-44', '18-24', '<18', '65+', '45-64', 'UNKNOWN', '1020', '940',\n",
       "       '224'], dtype=object)"
      ]
     },
     "execution_count": 135,
     "metadata": {},
     "output_type": "execute_result"
    }
   ],
   "source": [
    "#Age group unique  values\n",
    "\n",
    "nyc_df.PERP_AGE_GROUP[nyc_df.PERP_AGE_GROUP != \"No Age\"].unique()"
   ]
  },
  {
   "cell_type": "code",
   "execution_count": 136,
   "metadata": {},
   "outputs": [
    {
     "data": {
      "text/plain": [
       "18-24      5497\n",
       "25-44      4667\n",
       "UNKNOWN    3156\n",
       "<18        1371\n",
       "45-64       487\n",
       "65+          55\n",
       "1020          1\n",
       "940           1\n",
       "224           1\n",
       "Name: PERP_AGE_GROUP, dtype: int64"
      ]
     },
     "execution_count": 136,
     "metadata": {},
     "output_type": "execute_result"
    }
   ],
   "source": [
    "#Perpetrators age groups and no of incidences\n",
    "nyc_df.PERP_AGE_GROUP[nyc_df.PERP_AGE_GROUP != \"No Age\"].value_counts()#Filter out No Age values"
   ]
  },
  {
   "cell_type": "code",
   "execution_count": 137,
   "metadata": {},
   "outputs": [
    {
     "data": {
      "image/png": "[encoded data removed]",
      "text/plain": [
       "<Figure size 720x360 with 1 Axes>"
      ]
     },
     "metadata": {
      "needs_background": "light"
     },
     "output_type": "display_data"
    }
   ],
   "source": [
    "x_axis =nyc_df.PERP_AGE_GROUP[nyc_df.PERP_AGE_GROUP != \"No Age\"].value_counts().index\n",
    "y_axis = nyc_df.PERP_AGE_GROUP[nyc_df.PERP_AGE_GROUP != \"No Age\"].value_counts()\n",
    "sns.barplot(x = x_axis,y = y_axis)\n",
    "\n",
    "plt.title(\" BAR CHART:OCCURENCES BASED ON PERPETRATORS AGE GROUP\",fontsize = 12)\n",
    "plt.xlabel(\"AGE GROUP\",fontsize = 12)\n",
    "plt.ylabel(\"NO. OF INCIDENCES\",fontsize = 12);"
   ]
  },
  {
   "cell_type": "code",
   "execution_count": 138,
   "metadata": {},
   "outputs": [
    {
     "data": {
      "text/plain": [
       "array(['25-44', '18-24', '<18', '65+', '45-64', 'UNKNOWN', '1020', '940',\n",
       "       '224'], dtype=object)"
      ]
     },
     "execution_count": 138,
     "metadata": {},
     "output_type": "execute_result"
    }
   ],
   "source": [
    "#Assign number  to this values\n",
    "nyc_df.PERP_AGE_GROUP[nyc_df.PERP_AGE_GROUP != \"No Age\"].unique()"
   ]
  },
  {
   "cell_type": "code",
   "execution_count": 139,
   "metadata": {},
   "outputs": [
    {
     "data": {
      "text/plain": [
       "YEAR  BORO         \n",
       "2006  BROOKLYN         850\n",
       "      BRONX            568\n",
       "      QUEENS           296\n",
       "      MANHATTAN        288\n",
       "      STATEN ISLAND     53\n",
       "                      ... \n",
       "2021  BROOKLYN         104\n",
       "      BRONX             94\n",
       "      MANHATTAN         53\n",
       "      QUEENS            41\n",
       "      STATEN ISLAND      5\n",
       "Name: BORO, Length: 80, dtype: int64"
      ]
     },
     "execution_count": 139,
     "metadata": {},
     "output_type": "execute_result"
    }
   ],
   "source": [
    "# Incidences per_year in every Boro\n",
    "\n",
    "yearly_boro_incidences = nyc_df.groupby(\"YEAR\")[\"BORO\"].value_counts()\n",
    "yearly_boro_incidences"
   ]
  },
  {
   "cell_type": "markdown",
   "metadata": {},
   "source": [
    "* As Brooklyn has the highest number of incidents, it would be essential to examine the precincts in Brooklyn that experienced the most incidents"
   ]
  },
  {
   "cell_type": "code",
   "execution_count": 140,
   "metadata": {},
   "outputs": [
    {
     "data": {
      "text/html": [
       "<div>\n",
       "<style scoped>\n",
       "    .dataframe tbody tr th:only-of-type {\n",
       "        vertical-align: middle;\n",
       "    }\n",
       "\n",
       "    .dataframe tbody tr th {\n",
       "        vertical-align: top;\n",
       "    }\n",
       "\n",
       "    .dataframe thead th {\n",
       "        text-align: right;\n",
       "    }\n",
       "</style>\n",
       "<table border=\"1\" class=\"dataframe\">\n",
       "  <thead>\n",
       "    <tr style=\"text-align: right;\">\n",
       "      <th></th>\n",
       "      <th>INCIDENT_KEY</th>\n",
       "      <th>DATE</th>\n",
       "      <th>TIME</th>\n",
       "      <th>BORO</th>\n",
       "      <th>PRECINCT</th>\n",
       "      <th>PERP_AGE_GROUP</th>\n",
       "      <th>PERP_SEX</th>\n",
       "      <th>PERP_RACE</th>\n",
       "      <th>VIC_AGE_GROUP</th>\n",
       "      <th>VIC_SEX</th>\n",
       "      <th>VIC_RACE</th>\n",
       "      <th>YEAR</th>\n",
       "      <th>MONTH</th>\n",
       "      <th>DAY</th>\n",
       "      <th>WEEKDAY</th>\n",
       "      <th>HOUR</th>\n",
       "    </tr>\n",
       "  </thead>\n",
       "  <tbody>\n",
       "    <tr>\n",
       "      <th>1</th>\n",
       "      <td>226323779</td>\n",
       "      <td>2021-03-30</td>\n",
       "      <td>16:20:00</td>\n",
       "      <td>BROOKLYN</td>\n",
       "      <td>73</td>\n",
       "      <td>25-44</td>\n",
       "      <td>M</td>\n",
       "      <td>BLACK</td>\n",
       "      <td>25-44</td>\n",
       "      <td>M</td>\n",
       "      <td>BLACK</td>\n",
       "      <td>2021</td>\n",
       "      <td>3</td>\n",
       "      <td>30</td>\n",
       "      <td>1</td>\n",
       "      <td>16</td>\n",
       "    </tr>\n",
       "    <tr>\n",
       "      <th>7</th>\n",
       "      <td>226321324</td>\n",
       "      <td>2021-03-30</td>\n",
       "      <td>16:25:00</td>\n",
       "      <td>BROOKLYN</td>\n",
       "      <td>73</td>\n",
       "      <td>18-24</td>\n",
       "      <td>M</td>\n",
       "      <td>BLACK</td>\n",
       "      <td>25-44</td>\n",
       "      <td>M</td>\n",
       "      <td>UNKNOWN</td>\n",
       "      <td>2021</td>\n",
       "      <td>3</td>\n",
       "      <td>30</td>\n",
       "      <td>1</td>\n",
       "      <td>16</td>\n",
       "    </tr>\n",
       "    <tr>\n",
       "      <th>9</th>\n",
       "      <td>226230158</td>\n",
       "      <td>2021-03-28</td>\n",
       "      <td>22:00:00</td>\n",
       "      <td>BROOKLYN</td>\n",
       "      <td>60</td>\n",
       "      <td>No Age</td>\n",
       "      <td>No Sex</td>\n",
       "      <td>No Race</td>\n",
       "      <td>25-44</td>\n",
       "      <td>M</td>\n",
       "      <td>WHITE</td>\n",
       "      <td>2021</td>\n",
       "      <td>3</td>\n",
       "      <td>28</td>\n",
       "      <td>6</td>\n",
       "      <td>22</td>\n",
       "    </tr>\n",
       "    <tr>\n",
       "      <th>12</th>\n",
       "      <td>226229891</td>\n",
       "      <td>2021-03-28</td>\n",
       "      <td>19:05:00</td>\n",
       "      <td>BROOKLYN</td>\n",
       "      <td>67</td>\n",
       "      <td>No Age</td>\n",
       "      <td>No Sex</td>\n",
       "      <td>No Race</td>\n",
       "      <td>&lt;18</td>\n",
       "      <td>M</td>\n",
       "      <td>BLACK</td>\n",
       "      <td>2021</td>\n",
       "      <td>3</td>\n",
       "      <td>28</td>\n",
       "      <td>6</td>\n",
       "      <td>19</td>\n",
       "    </tr>\n",
       "    <tr>\n",
       "      <th>14</th>\n",
       "      <td>226204330</td>\n",
       "      <td>2021-03-27</td>\n",
       "      <td>21:16:00</td>\n",
       "      <td>BROOKLYN</td>\n",
       "      <td>67</td>\n",
       "      <td>No Age</td>\n",
       "      <td>No Sex</td>\n",
       "      <td>No Race</td>\n",
       "      <td>25-44</td>\n",
       "      <td>M</td>\n",
       "      <td>BLACK</td>\n",
       "      <td>2021</td>\n",
       "      <td>3</td>\n",
       "      <td>27</td>\n",
       "      <td>5</td>\n",
       "      <td>21</td>\n",
       "    </tr>\n",
       "    <tr>\n",
       "      <th>...</th>\n",
       "      <td>...</td>\n",
       "      <td>...</td>\n",
       "      <td>...</td>\n",
       "      <td>...</td>\n",
       "      <td>...</td>\n",
       "      <td>...</td>\n",
       "      <td>...</td>\n",
       "      <td>...</td>\n",
       "      <td>...</td>\n",
       "      <td>...</td>\n",
       "      <td>...</td>\n",
       "      <td>...</td>\n",
       "      <td>...</td>\n",
       "      <td>...</td>\n",
       "      <td>...</td>\n",
       "      <td>...</td>\n",
       "    </tr>\n",
       "    <tr>\n",
       "      <th>23853</th>\n",
       "      <td>9953249</td>\n",
       "      <td>2006-01-02</td>\n",
       "      <td>0:49:00</td>\n",
       "      <td>BROOKLYN</td>\n",
       "      <td>90</td>\n",
       "      <td>UNKNOWN</td>\n",
       "      <td>U</td>\n",
       "      <td>UNKNOWN</td>\n",
       "      <td>25-44</td>\n",
       "      <td>M</td>\n",
       "      <td>BLACK</td>\n",
       "      <td>2006</td>\n",
       "      <td>1</td>\n",
       "      <td>2</td>\n",
       "      <td>0</td>\n",
       "      <td>0</td>\n",
       "    </tr>\n",
       "    <tr>\n",
       "      <th>23854</th>\n",
       "      <td>9953255</td>\n",
       "      <td>2006-01-02</td>\n",
       "      <td>3:59:00</td>\n",
       "      <td>BROOKLYN</td>\n",
       "      <td>70</td>\n",
       "      <td>18-24</td>\n",
       "      <td>M</td>\n",
       "      <td>BLACK</td>\n",
       "      <td>18-24</td>\n",
       "      <td>M</td>\n",
       "      <td>BLACK</td>\n",
       "      <td>2006</td>\n",
       "      <td>1</td>\n",
       "      <td>2</td>\n",
       "      <td>0</td>\n",
       "      <td>3</td>\n",
       "    </tr>\n",
       "    <tr>\n",
       "      <th>23855</th>\n",
       "      <td>9953255</td>\n",
       "      <td>2006-01-02</td>\n",
       "      <td>3:59:00</td>\n",
       "      <td>BROOKLYN</td>\n",
       "      <td>70</td>\n",
       "      <td>18-24</td>\n",
       "      <td>M</td>\n",
       "      <td>BLACK</td>\n",
       "      <td>25-44</td>\n",
       "      <td>M</td>\n",
       "      <td>BLACK HISPANIC</td>\n",
       "      <td>2006</td>\n",
       "      <td>1</td>\n",
       "      <td>2</td>\n",
       "      <td>0</td>\n",
       "      <td>3</td>\n",
       "    </tr>\n",
       "    <tr>\n",
       "      <th>23861</th>\n",
       "      <td>139716503</td>\n",
       "      <td>2006-01-01</td>\n",
       "      <td>12:30:00</td>\n",
       "      <td>BROOKLYN</td>\n",
       "      <td>77</td>\n",
       "      <td>No Age</td>\n",
       "      <td>No Sex</td>\n",
       "      <td>No Race</td>\n",
       "      <td>25-44</td>\n",
       "      <td>M</td>\n",
       "      <td>BLACK</td>\n",
       "      <td>2006</td>\n",
       "      <td>1</td>\n",
       "      <td>1</td>\n",
       "      <td>6</td>\n",
       "      <td>12</td>\n",
       "    </tr>\n",
       "    <tr>\n",
       "      <th>23863</th>\n",
       "      <td>9953247</td>\n",
       "      <td>2006-01-01</td>\n",
       "      <td>3:30:00</td>\n",
       "      <td>BROOKLYN</td>\n",
       "      <td>67</td>\n",
       "      <td>UNKNOWN</td>\n",
       "      <td>U</td>\n",
       "      <td>UNKNOWN</td>\n",
       "      <td>18-24</td>\n",
       "      <td>M</td>\n",
       "      <td>BLACK</td>\n",
       "      <td>2006</td>\n",
       "      <td>1</td>\n",
       "      <td>1</td>\n",
       "      <td>6</td>\n",
       "      <td>3</td>\n",
       "    </tr>\n",
       "  </tbody>\n",
       "</table>\n",
       "<p>9826 rows × 16 columns</p>\n",
       "</div>"
      ],
      "text/plain": [
       "       INCIDENT_KEY       DATE      TIME      BORO  PRECINCT PERP_AGE_GROUP  \\\n",
       "1         226323779 2021-03-30  16:20:00  BROOKLYN        73          25-44   \n",
       "7         226321324 2021-03-30  16:25:00  BROOKLYN        73          18-24   \n",
       "9         226230158 2021-03-28  22:00:00  BROOKLYN        60         No Age   \n",
       "12        226229891 2021-03-28  19:05:00  BROOKLYN        67         No Age   \n",
       "14        226204330 2021-03-27  21:16:00  BROOKLYN        67         No Age   \n",
       "...             ...        ...       ...       ...       ...            ...   \n",
       "23853       9953249 2006-01-02   0:49:00  BROOKLYN        90        UNKNOWN   \n",
       "23854       9953255 2006-01-02   3:59:00  BROOKLYN        70          18-24   \n",
       "23855       9953255 2006-01-02   3:59:00  BROOKLYN        70          18-24   \n",
       "23861     139716503 2006-01-01  12:30:00  BROOKLYN        77         No Age   \n",
       "23863       9953247 2006-01-01   3:30:00  BROOKLYN        67        UNKNOWN   \n",
       "\n",
       "      PERP_SEX PERP_RACE VIC_AGE_GROUP VIC_SEX        VIC_RACE  YEAR  MONTH  \\\n",
       "1            M     BLACK         25-44       M           BLACK  2021      3   \n",
       "7            M     BLACK         25-44       M         UNKNOWN  2021      3   \n",
       "9       No Sex   No Race         25-44       M           WHITE  2021      3   \n",
       "12      No Sex   No Race           <18       M           BLACK  2021      3   \n",
       "14      No Sex   No Race         25-44       M           BLACK  2021      3   \n",
       "...        ...       ...           ...     ...             ...   ...    ...   \n",
       "23853        U   UNKNOWN         25-44       M           BLACK  2006      1   \n",
       "23854        M     BLACK         18-24       M           BLACK  2006      1   \n",
       "23855        M     BLACK         25-44       M  BLACK HISPANIC  2006      1   \n",
       "23861   No Sex   No Race         25-44       M           BLACK  2006      1   \n",
       "23863        U   UNKNOWN         18-24       M           BLACK  2006      1   \n",
       "\n",
       "       DAY  WEEKDAY  HOUR  \n",
       "1       30        1    16  \n",
       "7       30        1    16  \n",
       "9       28        6    22  \n",
       "12      28        6    19  \n",
       "14      27        5    21  \n",
       "...    ...      ...   ...  \n",
       "23853    2        0     0  \n",
       "23854    2        0     3  \n",
       "23855    2        0     3  \n",
       "23861    1        6    12  \n",
       "23863    1        6     3  \n",
       "\n",
       "[9826 rows x 16 columns]"
      ]
     },
     "execution_count": 140,
     "metadata": {},
     "output_type": "execute_result"
    }
   ],
   "source": [
    "Brooklyn_df = nyc_df[nyc_df.BORO == \"BROOKLYN\"]\n",
    "Brooklyn_df"
   ]
  },
  {
   "attachments": {},
   "cell_type": "markdown",
   "metadata": {},
   "source": [
    "#### Q : Which precinct in Brooklyn has the highest number of incidents?"
   ]
  },
  {
   "cell_type": "code",
   "execution_count": 141,
   "metadata": {},
   "outputs": [
    {
     "data": {
      "text/plain": [
       "75    1386\n",
       "73    1297\n",
       "67    1108\n",
       "79     926\n",
       "81     724\n",
       "Name: PRECINCT, dtype: int64"
      ]
     },
     "execution_count": 141,
     "metadata": {},
     "output_type": "execute_result"
    }
   ],
   "source": [
    "# Which precinct in Brooklyn has most incidences\n",
    "\n",
    "Brooklyn_df.PRECINCT.value_counts().head(5)"
   ]
  },
  {
   "cell_type": "code",
   "execution_count": 142,
   "metadata": {},
   "outputs": [
    {
     "data": {
      "text/html": [
       "<div>\n",
       "<style scoped>\n",
       "    .dataframe tbody tr th:only-of-type {\n",
       "        vertical-align: middle;\n",
       "    }\n",
       "\n",
       "    .dataframe tbody tr th {\n",
       "        vertical-align: top;\n",
       "    }\n",
       "\n",
       "    .dataframe thead th {\n",
       "        text-align: right;\n",
       "    }\n",
       "</style>\n",
       "<table border=\"1\" class=\"dataframe\">\n",
       "  <thead>\n",
       "    <tr style=\"text-align: right;\">\n",
       "      <th></th>\n",
       "      <th>INCIDENT_KEY</th>\n",
       "      <th>DATE</th>\n",
       "      <th>TIME</th>\n",
       "      <th>BORO</th>\n",
       "      <th>PRECINCT</th>\n",
       "      <th>PERP_AGE_GROUP</th>\n",
       "      <th>PERP_SEX</th>\n",
       "      <th>PERP_RACE</th>\n",
       "      <th>VIC_AGE_GROUP</th>\n",
       "      <th>VIC_SEX</th>\n",
       "      <th>VIC_RACE</th>\n",
       "      <th>YEAR</th>\n",
       "      <th>MONTH</th>\n",
       "      <th>DAY</th>\n",
       "      <th>WEEKDAY</th>\n",
       "      <th>HOUR</th>\n",
       "    </tr>\n",
       "  </thead>\n",
       "  <tbody>\n",
       "    <tr>\n",
       "      <th>15</th>\n",
       "      <td>226233404</td>\n",
       "      <td>2021-03-27</td>\n",
       "      <td>3:49:00</td>\n",
       "      <td>BROOKLYN</td>\n",
       "      <td>75</td>\n",
       "      <td>No Age</td>\n",
       "      <td>No Sex</td>\n",
       "      <td>No Race</td>\n",
       "      <td>18-24</td>\n",
       "      <td>M</td>\n",
       "      <td>BLACK</td>\n",
       "      <td>2021</td>\n",
       "      <td>3</td>\n",
       "      <td>27</td>\n",
       "      <td>5</td>\n",
       "      <td>3</td>\n",
       "    </tr>\n",
       "    <tr>\n",
       "      <th>18</th>\n",
       "      <td>226233403</td>\n",
       "      <td>2021-03-27</td>\n",
       "      <td>13:00:00</td>\n",
       "      <td>BROOKLYN</td>\n",
       "      <td>75</td>\n",
       "      <td>25-44</td>\n",
       "      <td>M</td>\n",
       "      <td>BLACK</td>\n",
       "      <td>25-44</td>\n",
       "      <td>M</td>\n",
       "      <td>BLACK</td>\n",
       "      <td>2021</td>\n",
       "      <td>3</td>\n",
       "      <td>27</td>\n",
       "      <td>5</td>\n",
       "      <td>13</td>\n",
       "    </tr>\n",
       "    <tr>\n",
       "      <th>19</th>\n",
       "      <td>226203720</td>\n",
       "      <td>2021-03-27</td>\n",
       "      <td>19:05:00</td>\n",
       "      <td>BROOKLYN</td>\n",
       "      <td>75</td>\n",
       "      <td>No Age</td>\n",
       "      <td>No Sex</td>\n",
       "      <td>No Race</td>\n",
       "      <td>18-24</td>\n",
       "      <td>M</td>\n",
       "      <td>BLACK</td>\n",
       "      <td>2021</td>\n",
       "      <td>3</td>\n",
       "      <td>27</td>\n",
       "      <td>5</td>\n",
       "      <td>19</td>\n",
       "    </tr>\n",
       "    <tr>\n",
       "      <th>40</th>\n",
       "      <td>225909567</td>\n",
       "      <td>2021-03-19</td>\n",
       "      <td>0:20:00</td>\n",
       "      <td>BROOKLYN</td>\n",
       "      <td>75</td>\n",
       "      <td>No Age</td>\n",
       "      <td>No Sex</td>\n",
       "      <td>No Race</td>\n",
       "      <td>18-24</td>\n",
       "      <td>M</td>\n",
       "      <td>BLACK</td>\n",
       "      <td>2021</td>\n",
       "      <td>3</td>\n",
       "      <td>19</td>\n",
       "      <td>4</td>\n",
       "      <td>0</td>\n",
       "    </tr>\n",
       "    <tr>\n",
       "      <th>97</th>\n",
       "      <td>225295736</td>\n",
       "      <td>2021-03-07</td>\n",
       "      <td>6:15:00</td>\n",
       "      <td>BROOKLYN</td>\n",
       "      <td>75</td>\n",
       "      <td>25-44</td>\n",
       "      <td>M</td>\n",
       "      <td>WHITE HISPANIC</td>\n",
       "      <td>25-44</td>\n",
       "      <td>M</td>\n",
       "      <td>WHITE HISPANIC</td>\n",
       "      <td>2021</td>\n",
       "      <td>3</td>\n",
       "      <td>7</td>\n",
       "      <td>6</td>\n",
       "      <td>6</td>\n",
       "    </tr>\n",
       "  </tbody>\n",
       "</table>\n",
       "</div>"
      ],
      "text/plain": [
       "    INCIDENT_KEY       DATE      TIME      BORO  PRECINCT PERP_AGE_GROUP  \\\n",
       "15     226233404 2021-03-27   3:49:00  BROOKLYN        75         No Age   \n",
       "18     226233403 2021-03-27  13:00:00  BROOKLYN        75          25-44   \n",
       "19     226203720 2021-03-27  19:05:00  BROOKLYN        75         No Age   \n",
       "40     225909567 2021-03-19   0:20:00  BROOKLYN        75         No Age   \n",
       "97     225295736 2021-03-07   6:15:00  BROOKLYN        75          25-44   \n",
       "\n",
       "   PERP_SEX       PERP_RACE VIC_AGE_GROUP VIC_SEX        VIC_RACE  YEAR  \\\n",
       "15   No Sex         No Race         18-24       M           BLACK  2021   \n",
       "18        M           BLACK         25-44       M           BLACK  2021   \n",
       "19   No Sex         No Race         18-24       M           BLACK  2021   \n",
       "40   No Sex         No Race         18-24       M           BLACK  2021   \n",
       "97        M  WHITE HISPANIC         25-44       M  WHITE HISPANIC  2021   \n",
       "\n",
       "    MONTH  DAY  WEEKDAY  HOUR  \n",
       "15      3   27        5     3  \n",
       "18      3   27        5    13  \n",
       "19      3   27        5    19  \n",
       "40      3   19        4     0  \n",
       "97      3    7        6     6  "
      ]
     },
     "execution_count": 142,
     "metadata": {},
     "output_type": "execute_result"
    }
   ],
   "source": [
    "# 75th precinct incidences\n",
    "The_75th_precinct = Brooklyn_df[Brooklyn_df.PRECINCT == 75] \n",
    "The_75th_precinct.head()"
   ]
  },
  {
   "cell_type": "code",
   "execution_count": 143,
   "metadata": {},
   "outputs": [
    {
     "data": {
      "text/plain": [
       "array(['BROOKLYN'], dtype=object)"
      ]
     },
     "execution_count": 143,
     "metadata": {},
     "output_type": "execute_result"
    }
   ],
   "source": [
    "#The 75th precinct is in Brooklyn\n",
    "The_75th_precinct.BORO.unique()"
   ]
  },
  {
   "attachments": {},
   "cell_type": "markdown",
   "metadata": {},
   "source": [
    "#### Q: Which race has the highest number of shooting incident victims?"
   ]
  },
  {
   "cell_type": "code",
   "execution_count": 144,
   "metadata": {},
   "outputs": [
    {
     "data": {
      "text/plain": [
       "BLACK                             1121\n",
       "WHITE HISPANIC                     133\n",
       "BLACK HISPANIC                     104\n",
       "WHITE                               12\n",
       "ASIAN / PACIFIC ISLANDER            11\n",
       "UNKNOWN                              4\n",
       "AMERICAN INDIAN/ALASKAN NATIVE       1\n",
       "Name: VIC_RACE, dtype: int64"
      ]
     },
     "execution_count": 144,
     "metadata": {},
     "output_type": "execute_result"
    }
   ],
   "source": [
    "The_75th_precinct[\"VIC_RACE\"].value_counts()"
   ]
  },
  {
   "attachments": {},
   "cell_type": "markdown",
   "metadata": {},
   "source": [
    "- Most victims of shooting incidents are Black."
   ]
  },
  {
   "cell_type": "code",
   "execution_count": 145,
   "metadata": {},
   "outputs": [],
   "source": [
    "number_of_victims = The_75th_precinct[\"VIC_RACE\"].value_counts()\n",
    "victims_race = The_75th_precinct[\"VIC_RACE\"].value_counts().index"
   ]
  },
  {
   "cell_type": "code",
   "execution_count": 146,
   "metadata": {},
   "outputs": [
    {
     "data": {
      "image/png": "[encoded data removed]",
      "text/plain": [
       "<Figure size 720x360 with 1 Axes>"
      ]
     },
     "metadata": {
      "needs_background": "light"
     },
     "output_type": "display_data"
    }
   ],
   "source": [
    "sns.barplot(x = number_of_victims,y = victims_race)\n",
    "\n",
    "plt.title(\" 75th precint, Brooklyn: Shooting incidences victims per race\",fontsize = 14)\n",
    "plt.ylabel(\"Victims Race\",fontsize = 14)\n",
    "plt.xlabel(\"Number Of Victims\",fontsize = 14);"
   ]
  },
  {
   "attachments": {},
   "cell_type": "markdown",
   "metadata": {},
   "source": [
    "#### Q: During which month, weekday, and hour did the 75th Precinct in Brooklyn experience the highest number of incidents?"
   ]
  },
  {
   "attachments": {},
   "cell_type": "markdown",
   "metadata": {},
   "source": [
    "##### Monthly Incidences"
   ]
  },
  {
   "cell_type": "code",
   "execution_count": 147,
   "metadata": {},
   "outputs": [
    {
     "data": {
      "application/vnd.plotly.v1+json": {
       "config": {
        "plotlyServerURL": "https://plot.ly"
       },
       "data": [
        {
         "alignmentgroup": "True",
         "hovertemplate": "Month=%{x}<br>No.of incidences=%{y}<extra></extra>",
         "legendgroup": "",
         "marker": {
          "color": "#636efa",
          "pattern": {
           "shape": ""
          }
         },
         "name": "",
         "offsetgroup": "",
         "orientation": "v",
         "showlegend": false,
         "textposition": "auto",
         "type": "bar",
         "x": [
          8,
          7,
          5,
          6,
          9,
          10,
          4,
          11,
          3,
          1,
          12,
          2
         ],
         "xaxis": "x",
         "y": [
          178,
          159,
          150,
          144,
          131,
          119,
          102,
          100,
          83,
          80,
          80,
          60
         ],
         "yaxis": "y"
        }
       ],
       "layout": {
        "barmode": "relative",
        "legend": {
         "tracegroupgap": 0
        },
        "template": {
         "data": {
          "bar": [
           {
            "error_x": {
             "color": "#2a3f5f"
            },
            "error_y": {
             "color": "#2a3f5f"
            },
            "marker": {
             "line": {
              "color": "#E5ECF6",
              "width": 0.5
             },
             "pattern": {
              "fillmode": "overlay",
              "size": 10,
              "solidity": 0.2
             }
            },
            "type": "bar"
           }
          ],
          "barpolar": [
           {
            "marker": {
             "line": {
              "color": "#E5ECF6",
              "width": 0.5
             },
             "pattern": {
              "fillmode": "overlay",
              "size": 10,
              "solidity": 0.2
             }
            },
            "type": "barpolar"
           }
          ],
          "carpet": [
           {
            "aaxis": {
             "endlinecolor": "#2a3f5f",
             "gridcolor": "white",
             "linecolor": "white",
             "minorgridcolor": "white",
             "startlinecolor": "#2a3f5f"
            },
            "baxis": {
             "endlinecolor": "#2a3f5f",
             "gridcolor": "white",
             "linecolor": "white",
             "minorgridcolor": "white",
             "startlinecolor": "#2a3f5f"
            },
            "type": "carpet"
           }
          ],
          "choropleth": [
           {
            "colorbar": {
             "outlinewidth": 0,
             "ticks": ""
            },
            "type": "choropleth"
           }
          ],
          "contour": [
           {
            "colorbar": {
             "outlinewidth": 0,
             "ticks": ""
            },
            "colorscale": [
             [
              0,
              "#0d0887"
             ],
             [
              0.1111111111111111,
              "#46039f"
             ],
             [
              0.2222222222222222,
              "#7201a8"
             ],
             [
              0.3333333333333333,
              "#9c179e"
             ],
             [
              0.4444444444444444,
              "#bd3786"
             ],
             [
              0.5555555555555556,
              "#d8576b"
             ],
             [
              0.6666666666666666,
              "#ed7953"
             ],
             [
              0.7777777777777778,
              "#fb9f3a"
             ],
             [
              0.8888888888888888,
              "#fdca26"
             ],
             [
              1,
              "#f0f921"
             ]
            ],
            "type": "contour"
           }
          ],
          "contourcarpet": [
           {
            "colorbar": {
             "outlinewidth": 0,
             "ticks": ""
            },
            "type": "contourcarpet"
           }
          ],
          "heatmap": [
           {
            "colorbar": {
             "outlinewidth": 0,
             "ticks": ""
            },
            "colorscale": [
             [
              0,
              "#0d0887"
             ],
             [
              0.1111111111111111,
              "#46039f"
             ],
             [
              0.2222222222222222,
              "#7201a8"
             ],
             [
              0.3333333333333333,
              "#9c179e"
             ],
             [
              0.4444444444444444,
              "#bd3786"
             ],
             [
              0.5555555555555556,
              "#d8576b"
             ],
             [
              0.6666666666666666,
              "#ed7953"
             ],
             [
              0.7777777777777778,
              "#fb9f3a"
             ],
             [
              0.8888888888888888,
              "#fdca26"
             ],
             [
              1,
              "#f0f921"
             ]
            ],
            "type": "heatmap"
           }
          ],
          "heatmapgl": [
           {
            "colorbar": {
             "outlinewidth": 0,
             "ticks": ""
            },
            "colorscale": [
             [
              0,
              "#0d0887"
             ],
             [
              0.1111111111111111,
              "#46039f"
             ],
             [
              0.2222222222222222,
              "#7201a8"
             ],
             [
              0.3333333333333333,
              "#9c179e"
             ],
             [
              0.4444444444444444,
              "#bd3786"
             ],
             [
              0.5555555555555556,
              "#d8576b"
             ],
             [
              0.6666666666666666,
              "#ed7953"
             ],
             [
              0.7777777777777778,
              "#fb9f3a"
             ],
             [
              0.8888888888888888,
              "#fdca26"
             ],
             [
              1,
              "#f0f921"
             ]
            ],
            "type": "heatmapgl"
           }
          ],
          "histogram": [
           {
            "marker": {
             "pattern": {
              "fillmode": "overlay",
              "size": 10,
              "solidity": 0.2
             }
            },
            "type": "histogram"
           }
          ],
          "histogram2d": [
           {
            "colorbar": {
             "outlinewidth": 0,
             "ticks": ""
            },
            "colorscale": [
             [
              0,
              "#0d0887"
             ],
             [
              0.1111111111111111,
              "#46039f"
             ],
             [
              0.2222222222222222,
              "#7201a8"
             ],
             [
              0.3333333333333333,
              "#9c179e"
             ],
             [
              0.4444444444444444,
              "#bd3786"
             ],
             [
              0.5555555555555556,
              "#d8576b"
             ],
             [
              0.6666666666666666,
              "#ed7953"
             ],
             [
              0.7777777777777778,
              "#fb9f3a"
             ],
             [
              0.8888888888888888,
              "#fdca26"
             ],
             [
              1,
              "#f0f921"
             ]
            ],
            "type": "histogram2d"
           }
          ],
          "histogram2dcontour": [
           {
            "colorbar": {
             "outlinewidth": 0,
             "ticks": ""
            },
            "colorscale": [
             [
              0,
              "#0d0887"
             ],
             [
              0.1111111111111111,
              "#46039f"
             ],
             [
              0.2222222222222222,
              "#7201a8"
             ],
             [
              0.3333333333333333,
              "#9c179e"
             ],
             [
              0.4444444444444444,
              "#bd3786"
             ],
             [
              0.5555555555555556,
              "#d8576b"
             ],
             [
              0.6666666666666666,
              "#ed7953"
             ],
             [
              0.7777777777777778,
              "#fb9f3a"
             ],
             [
              0.8888888888888888,
              "#fdca26"
             ],
             [
              1,
              "#f0f921"
             ]
            ],
            "type": "histogram2dcontour"
           }
          ],
          "mesh3d": [
           {
            "colorbar": {
             "outlinewidth": 0,
             "ticks": ""
            },
            "type": "mesh3d"
           }
          ],
          "parcoords": [
           {
            "line": {
             "colorbar": {
              "outlinewidth": 0,
              "ticks": ""
             }
            },
            "type": "parcoords"
           }
          ],
          "pie": [
           {
            "automargin": true,
            "type": "pie"
           }
          ],
          "scatter": [
           {
            "marker": {
             "colorbar": {
              "outlinewidth": 0,
              "ticks": ""
             }
            },
            "type": "scatter"
           }
          ],
          "scatter3d": [
           {
            "line": {
             "colorbar": {
              "outlinewidth": 0,
              "ticks": ""
             }
            },
            "marker": {
             "colorbar": {
              "outlinewidth": 0,
              "ticks": ""
             }
            },
            "type": "scatter3d"
           }
          ],
          "scattercarpet": [
           {
            "marker": {
             "colorbar": {
              "outlinewidth": 0,
              "ticks": ""
             }
            },
            "type": "scattercarpet"
           }
          ],
          "scattergeo": [
           {
            "marker": {
             "colorbar": {
              "outlinewidth": 0,
              "ticks": ""
             }
            },
            "type": "scattergeo"
           }
          ],
          "scattergl": [
           {
            "marker": {
             "colorbar": {
              "outlinewidth": 0,
              "ticks": ""
             }
            },
            "type": "scattergl"
           }
          ],
          "scattermapbox": [
           {
            "marker": {
             "colorbar": {
              "outlinewidth": 0,
              "ticks": ""
             }
            },
            "type": "scattermapbox"
           }
          ],
          "scatterpolar": [
           {
            "marker": {
             "colorbar": {
              "outlinewidth": 0,
              "ticks": ""
             }
            },
            "type": "scatterpolar"
           }
          ],
          "scatterpolargl": [
           {
            "marker": {
             "colorbar": {
              "outlinewidth": 0,
              "ticks": ""
             }
            },
            "type": "scatterpolargl"
           }
          ],
          "scatterternary": [
           {
            "marker": {
             "colorbar": {
              "outlinewidth": 0,
              "ticks": ""
             }
            },
            "type": "scatterternary"
           }
          ],
          "surface": [
           {
            "colorbar": {
             "outlinewidth": 0,
             "ticks": ""
            },
            "colorscale": [
             [
              0,
              "#0d0887"
             ],
             [
              0.1111111111111111,
              "#46039f"
             ],
             [
              0.2222222222222222,
              "#7201a8"
             ],
             [
              0.3333333333333333,
              "#9c179e"
             ],
             [
              0.4444444444444444,
              "#bd3786"
             ],
             [
              0.5555555555555556,
              "#d8576b"
             ],
             [
              0.6666666666666666,
              "#ed7953"
             ],
             [
              0.7777777777777778,
              "#fb9f3a"
             ],
             [
              0.8888888888888888,
              "#fdca26"
             ],
             [
              1,
              "#f0f921"
             ]
            ],
            "type": "surface"
           }
          ],
          "table": [
           {
            "cells": {
             "fill": {
              "color": "#EBF0F8"
             },
             "line": {
              "color": "white"
             }
            },
            "header": {
             "fill": {
              "color": "#C8D4E3"
             },
             "line": {
              "color": "white"
             }
            },
            "type": "table"
           }
          ]
         },
         "layout": {
          "annotationdefaults": {
           "arrowcolor": "#2a3f5f",
           "arrowhead": 0,
           "arrowwidth": 1
          },
          "autotypenumbers": "strict",
          "coloraxis": {
           "colorbar": {
            "outlinewidth": 0,
            "ticks": ""
           }
          },
          "colorscale": {
           "diverging": [
            [
             0,
             "#8e0152"
            ],
            [
             0.1,
             "#c51b7d"
            ],
            [
             0.2,
             "#de77ae"
            ],
            [
             0.3,
             "#f1b6da"
            ],
            [
             0.4,
             "#fde0ef"
            ],
            [
             0.5,
             "#f7f7f7"
            ],
            [
             0.6,
             "#e6f5d0"
            ],
            [
             0.7,
             "#b8e186"
            ],
            [
             0.8,
             "#7fbc41"
            ],
            [
             0.9,
             "#4d9221"
            ],
            [
             1,
             "#276419"
            ]
           ],
           "sequential": [
            [
             0,
             "#0d0887"
            ],
            [
             0.1111111111111111,
             "#46039f"
            ],
            [
             0.2222222222222222,
             "#7201a8"
            ],
            [
             0.3333333333333333,
             "#9c179e"
            ],
            [
             0.4444444444444444,
             "#bd3786"
            ],
            [
             0.5555555555555556,
             "#d8576b"
            ],
            [
             0.6666666666666666,
             "#ed7953"
            ],
            [
             0.7777777777777778,
             "#fb9f3a"
            ],
            [
             0.8888888888888888,
             "#fdca26"
            ],
            [
             1,
             "#f0f921"
            ]
           ],
           "sequentialminus": [
            [
             0,
             "#0d0887"
            ],
            [
             0.1111111111111111,
             "#46039f"
            ],
            [
             0.2222222222222222,
             "#7201a8"
            ],
            [
             0.3333333333333333,
             "#9c179e"
            ],
            [
             0.4444444444444444,
             "#bd3786"
            ],
            [
             0.5555555555555556,
             "#d8576b"
            ],
            [
             0.6666666666666666,
             "#ed7953"
            ],
            [
             0.7777777777777778,
             "#fb9f3a"
            ],
            [
             0.8888888888888888,
             "#fdca26"
            ],
            [
             1,
             "#f0f921"
            ]
           ]
          },
          "colorway": [
           "#636efa",
           "#EF553B",
           "#00cc96",
           "#ab63fa",
           "#FFA15A",
           "#19d3f3",
           "#FF6692",
           "#B6E880",
           "#FF97FF",
           "#FECB52"
          ],
          "font": {
           "color": "#2a3f5f"
          },
          "geo": {
           "bgcolor": "white",
           "lakecolor": "white",
           "landcolor": "#E5ECF6",
           "showlakes": true,
           "showland": true,
           "subunitcolor": "white"
          },
          "hoverlabel": {
           "align": "left"
          },
          "hovermode": "closest",
          "mapbox": {
           "style": "light"
          },
          "paper_bgcolor": "white",
          "plot_bgcolor": "#E5ECF6",
          "polar": {
           "angularaxis": {
            "gridcolor": "white",
            "linecolor": "white",
            "ticks": ""
           },
           "bgcolor": "#E5ECF6",
           "radialaxis": {
            "gridcolor": "white",
            "linecolor": "white",
            "ticks": ""
           }
          },
          "scene": {
           "xaxis": {
            "backgroundcolor": "#E5ECF6",
            "gridcolor": "white",
            "gridwidth": 2,
            "linecolor": "white",
            "showbackground": true,
            "ticks": "",
            "zerolinecolor": "white"
           },
           "yaxis": {
            "backgroundcolor": "#E5ECF6",
            "gridcolor": "white",
            "gridwidth": 2,
            "linecolor": "white",
            "showbackground": true,
            "ticks": "",
            "zerolinecolor": "white"
           },
           "zaxis": {
            "backgroundcolor": "#E5ECF6",
            "gridcolor": "white",
            "gridwidth": 2,
            "linecolor": "white",
            "showbackground": true,
            "ticks": "",
            "zerolinecolor": "white"
           }
          },
          "shapedefaults": {
           "line": {
            "color": "#2a3f5f"
           }
          },
          "ternary": {
           "aaxis": {
            "gridcolor": "white",
            "linecolor": "white",
            "ticks": ""
           },
           "baxis": {
            "gridcolor": "white",
            "linecolor": "white",
            "ticks": ""
           },
           "bgcolor": "#E5ECF6",
           "caxis": {
            "gridcolor": "white",
            "linecolor": "white",
            "ticks": ""
           }
          },
          "title": {
           "x": 0.05
          },
          "xaxis": {
           "automargin": true,
           "gridcolor": "white",
           "linecolor": "white",
           "ticks": "",
           "title": {
            "standoff": 15
           },
           "zerolinecolor": "white",
           "zerolinewidth": 2
          },
          "yaxis": {
           "automargin": true,
           "gridcolor": "white",
           "linecolor": "white",
           "ticks": "",
           "title": {
            "standoff": 15
           },
           "zerolinecolor": "white",
           "zerolinewidth": 2
          }
         }
        },
        "title": {
         "text": "Bar Graph:Monthly Incidences"
        },
        "xaxis": {
         "anchor": "y",
         "domain": [
          0,
          1
         ],
         "title": {
          "text": "Month"
         }
        },
        "yaxis": {
         "anchor": "x",
         "domain": [
          0,
          1
         ],
         "title": {
          "text": "No.of incidences"
         }
        }
       }
      }
     },
     "metadata": {},
     "output_type": "display_data"
    }
   ],
   "source": [
    "# Bar chart based on monthly occurrences\n",
    "month = The_75th_precinct.MONTH.value_counts().index\n",
    "incidences = The_75th_precinct.MONTH.value_counts()\n",
    "\n",
    "fig = px.bar(The_75th_precinct,\n",
    "                     x = month,\n",
    "                     y= incidences,\n",
    "                    labels = {\"x\":\"Month\",\"y\":\"No.of incidences\"},\n",
    "                    title = \"Bar Graph:Monthly Incidences\"\n",
    "                    )\n",
    "fig.show()"
   ]
  },
  {
   "attachments": {},
   "cell_type": "markdown",
   "metadata": {},
   "source": [
    "- Statistically, the second and third quarters of the year are more prone to experiencing a higher number of incidents.\""
   ]
  },
  {
   "attachments": {},
   "cell_type": "markdown",
   "metadata": {},
   "source": [
    "##### Weekday Incidences"
   ]
  },
  {
   "cell_type": "code",
   "execution_count": 148,
   "metadata": {},
   "outputs": [
    {
     "data": {
      "application/vnd.plotly.v1+json": {
       "config": {
        "plotlyServerURL": "https://plot.ly"
       },
       "data": [
        {
         "domain": {
          "x": [
           0,
           1
          ],
          "y": [
           0,
           1
          ]
         },
         "hovertemplate": "label=%{label}<br>value=%{value}<extra></extra>",
         "labels": [
          6,
          5,
          4,
          0,
          3,
          1,
          2
         ],
         "legendgroup": "",
         "name": "",
         "showlegend": true,
         "type": "pie",
         "values": [
          312,
          231,
          199,
          189,
          166,
          149,
          140
         ]
        }
       ],
       "layout": {
        "legend": {
         "tracegroupgap": 0
        },
        "template": {
         "data": {
          "bar": [
           {
            "error_x": {
             "color": "#2a3f5f"
            },
            "error_y": {
             "color": "#2a3f5f"
            },
            "marker": {
             "line": {
              "color": "#E5ECF6",
              "width": 0.5
             },
             "pattern": {
              "fillmode": "overlay",
              "size": 10,
              "solidity": 0.2
             }
            },
            "type": "bar"
           }
          ],
          "barpolar": [
           {
            "marker": {
             "line": {
              "color": "#E5ECF6",
              "width": 0.5
             },
             "pattern": {
              "fillmode": "overlay",
              "size": 10,
              "solidity": 0.2
             }
            },
            "type": "barpolar"
           }
          ],
          "carpet": [
           {
            "aaxis": {
             "endlinecolor": "#2a3f5f",
             "gridcolor": "white",
             "linecolor": "white",
             "minorgridcolor": "white",
             "startlinecolor": "#2a3f5f"
            },
            "baxis": {
             "endlinecolor": "#2a3f5f",
             "gridcolor": "white",
             "linecolor": "white",
             "minorgridcolor": "white",
             "startlinecolor": "#2a3f5f"
            },
            "type": "carpet"
           }
          ],
          "choropleth": [
           {
            "colorbar": {
             "outlinewidth": 0,
             "ticks": ""
            },
            "type": "choropleth"
           }
          ],
          "contour": [
           {
            "colorbar": {
             "outlinewidth": 0,
             "ticks": ""
            },
            "colorscale": [
             [
              0,
              "#0d0887"
             ],
             [
              0.1111111111111111,
              "#46039f"
             ],
             [
              0.2222222222222222,
              "#7201a8"
             ],
             [
              0.3333333333333333,
              "#9c179e"
             ],
             [
              0.4444444444444444,
              "#bd3786"
             ],
             [
              0.5555555555555556,
              "#d8576b"
             ],
             [
              0.6666666666666666,
              "#ed7953"
             ],
             [
              0.7777777777777778,
              "#fb9f3a"
             ],
             [
              0.8888888888888888,
              "#fdca26"
             ],
             [
              1,
              "#f0f921"
             ]
            ],
            "type": "contour"
           }
          ],
          "contourcarpet": [
           {
            "colorbar": {
             "outlinewidth": 0,
             "ticks": ""
            },
            "type": "contourcarpet"
           }
          ],
          "heatmap": [
           {
            "colorbar": {
             "outlinewidth": 0,
             "ticks": ""
            },
            "colorscale": [
             [
              0,
              "#0d0887"
             ],
             [
              0.1111111111111111,
              "#46039f"
             ],
             [
              0.2222222222222222,
              "#7201a8"
             ],
             [
              0.3333333333333333,
              "#9c179e"
             ],
             [
              0.4444444444444444,
              "#bd3786"
             ],
             [
              0.5555555555555556,
              "#d8576b"
             ],
             [
              0.6666666666666666,
              "#ed7953"
             ],
             [
              0.7777777777777778,
              "#fb9f3a"
             ],
             [
              0.8888888888888888,
              "#fdca26"
             ],
             [
              1,
              "#f0f921"
             ]
            ],
            "type": "heatmap"
           }
          ],
          "heatmapgl": [
           {
            "colorbar": {
             "outlinewidth": 0,
             "ticks": ""
            },
            "colorscale": [
             [
              0,
              "#0d0887"
             ],
             [
              0.1111111111111111,
              "#46039f"
             ],
             [
              0.2222222222222222,
              "#7201a8"
             ],
             [
              0.3333333333333333,
              "#9c179e"
             ],
             [
              0.4444444444444444,
              "#bd3786"
             ],
             [
              0.5555555555555556,
              "#d8576b"
             ],
             [
              0.6666666666666666,
              "#ed7953"
             ],
             [
              0.7777777777777778,
              "#fb9f3a"
             ],
             [
              0.8888888888888888,
              "#fdca26"
             ],
             [
              1,
              "#f0f921"
             ]
            ],
            "type": "heatmapgl"
           }
          ],
          "histogram": [
           {
            "marker": {
             "pattern": {
              "fillmode": "overlay",
              "size": 10,
              "solidity": 0.2
             }
            },
            "type": "histogram"
           }
          ],
          "histogram2d": [
           {
            "colorbar": {
             "outlinewidth": 0,
             "ticks": ""
            },
            "colorscale": [
             [
              0,
              "#0d0887"
             ],
             [
              0.1111111111111111,
              "#46039f"
             ],
             [
              0.2222222222222222,
              "#7201a8"
             ],
             [
              0.3333333333333333,
              "#9c179e"
             ],
             [
              0.4444444444444444,
              "#bd3786"
             ],
             [
              0.5555555555555556,
              "#d8576b"
             ],
             [
              0.6666666666666666,
              "#ed7953"
             ],
             [
              0.7777777777777778,
              "#fb9f3a"
             ],
             [
              0.8888888888888888,
              "#fdca26"
             ],
             [
              1,
              "#f0f921"
             ]
            ],
            "type": "histogram2d"
           }
          ],
          "histogram2dcontour": [
           {
            "colorbar": {
             "outlinewidth": 0,
             "ticks": ""
            },
            "colorscale": [
             [
              0,
              "#0d0887"
             ],
             [
              0.1111111111111111,
              "#46039f"
             ],
             [
              0.2222222222222222,
              "#7201a8"
             ],
             [
              0.3333333333333333,
              "#9c179e"
             ],
             [
              0.4444444444444444,
              "#bd3786"
             ],
             [
              0.5555555555555556,
              "#d8576b"
             ],
             [
              0.6666666666666666,
              "#ed7953"
             ],
             [
              0.7777777777777778,
              "#fb9f3a"
             ],
             [
              0.8888888888888888,
              "#fdca26"
             ],
             [
              1,
              "#f0f921"
             ]
            ],
            "type": "histogram2dcontour"
           }
          ],
          "mesh3d": [
           {
            "colorbar": {
             "outlinewidth": 0,
             "ticks": ""
            },
            "type": "mesh3d"
           }
          ],
          "parcoords": [
           {
            "line": {
             "colorbar": {
              "outlinewidth": 0,
              "ticks": ""
             }
            },
            "type": "parcoords"
           }
          ],
          "pie": [
           {
            "automargin": true,
            "type": "pie"
           }
          ],
          "scatter": [
           {
            "marker": {
             "colorbar": {
              "outlinewidth": 0,
              "ticks": ""
             }
            },
            "type": "scatter"
           }
          ],
          "scatter3d": [
           {
            "line": {
             "colorbar": {
              "outlinewidth": 0,
              "ticks": ""
             }
            },
            "marker": {
             "colorbar": {
              "outlinewidth": 0,
              "ticks": ""
             }
            },
            "type": "scatter3d"
           }
          ],
          "scattercarpet": [
           {
            "marker": {
             "colorbar": {
              "outlinewidth": 0,
              "ticks": ""
             }
            },
            "type": "scattercarpet"
           }
          ],
          "scattergeo": [
           {
            "marker": {
             "colorbar": {
              "outlinewidth": 0,
              "ticks": ""
             }
            },
            "type": "scattergeo"
           }
          ],
          "scattergl": [
           {
            "marker": {
             "colorbar": {
              "outlinewidth": 0,
              "ticks": ""
             }
            },
            "type": "scattergl"
           }
          ],
          "scattermapbox": [
           {
            "marker": {
             "colorbar": {
              "outlinewidth": 0,
              "ticks": ""
             }
            },
            "type": "scattermapbox"
           }
          ],
          "scatterpolar": [
           {
            "marker": {
             "colorbar": {
              "outlinewidth": 0,
              "ticks": ""
             }
            },
            "type": "scatterpolar"
           }
          ],
          "scatterpolargl": [
           {
            "marker": {
             "colorbar": {
              "outlinewidth": 0,
              "ticks": ""
             }
            },
            "type": "scatterpolargl"
           }
          ],
          "scatterternary": [
           {
            "marker": {
             "colorbar": {
              "outlinewidth": 0,
              "ticks": ""
             }
            },
            "type": "scatterternary"
           }
          ],
          "surface": [
           {
            "colorbar": {
             "outlinewidth": 0,
             "ticks": ""
            },
            "colorscale": [
             [
              0,
              "#0d0887"
             ],
             [
              0.1111111111111111,
              "#46039f"
             ],
             [
              0.2222222222222222,
              "#7201a8"
             ],
             [
              0.3333333333333333,
              "#9c179e"
             ],
             [
              0.4444444444444444,
              "#bd3786"
             ],
             [
              0.5555555555555556,
              "#d8576b"
             ],
             [
              0.6666666666666666,
              "#ed7953"
             ],
             [
              0.7777777777777778,
              "#fb9f3a"
             ],
             [
              0.8888888888888888,
              "#fdca26"
             ],
             [
              1,
              "#f0f921"
             ]
            ],
            "type": "surface"
           }
          ],
          "table": [
           {
            "cells": {
             "fill": {
              "color": "#EBF0F8"
             },
             "line": {
              "color": "white"
             }
            },
            "header": {
             "fill": {
              "color": "#C8D4E3"
             },
             "line": {
              "color": "white"
             }
            },
            "type": "table"
           }
          ]
         },
         "layout": {
          "annotationdefaults": {
           "arrowcolor": "#2a3f5f",
           "arrowhead": 0,
           "arrowwidth": 1
          },
          "autotypenumbers": "strict",
          "coloraxis": {
           "colorbar": {
            "outlinewidth": 0,
            "ticks": ""
           }
          },
          "colorscale": {
           "diverging": [
            [
             0,
             "#8e0152"
            ],
            [
             0.1,
             "#c51b7d"
            ],
            [
             0.2,
             "#de77ae"
            ],
            [
             0.3,
             "#f1b6da"
            ],
            [
             0.4,
             "#fde0ef"
            ],
            [
             0.5,
             "#f7f7f7"
            ],
            [
             0.6,
             "#e6f5d0"
            ],
            [
             0.7,
             "#b8e186"
            ],
            [
             0.8,
             "#7fbc41"
            ],
            [
             0.9,
             "#4d9221"
            ],
            [
             1,
             "#276419"
            ]
           ],
           "sequential": [
            [
             0,
             "#0d0887"
            ],
            [
             0.1111111111111111,
             "#46039f"
            ],
            [
             0.2222222222222222,
             "#7201a8"
            ],
            [
             0.3333333333333333,
             "#9c179e"
            ],
            [
             0.4444444444444444,
             "#bd3786"
            ],
            [
             0.5555555555555556,
             "#d8576b"
            ],
            [
             0.6666666666666666,
             "#ed7953"
            ],
            [
             0.7777777777777778,
             "#fb9f3a"
            ],
            [
             0.8888888888888888,
             "#fdca26"
            ],
            [
             1,
             "#f0f921"
            ]
           ],
           "sequentialminus": [
            [
             0,
             "#0d0887"
            ],
            [
             0.1111111111111111,
             "#46039f"
            ],
            [
             0.2222222222222222,
             "#7201a8"
            ],
            [
             0.3333333333333333,
             "#9c179e"
            ],
            [
             0.4444444444444444,
             "#bd3786"
            ],
            [
             0.5555555555555556,
             "#d8576b"
            ],
            [
             0.6666666666666666,
             "#ed7953"
            ],
            [
             0.7777777777777778,
             "#fb9f3a"
            ],
            [
             0.8888888888888888,
             "#fdca26"
            ],
            [
             1,
             "#f0f921"
            ]
           ]
          },
          "colorway": [
           "#636efa",
           "#EF553B",
           "#00cc96",
           "#ab63fa",
           "#FFA15A",
           "#19d3f3",
           "#FF6692",
           "#B6E880",
           "#FF97FF",
           "#FECB52"
          ],
          "font": {
           "color": "#2a3f5f"
          },
          "geo": {
           "bgcolor": "white",
           "lakecolor": "white",
           "landcolor": "#E5ECF6",
           "showlakes": true,
           "showland": true,
           "subunitcolor": "white"
          },
          "hoverlabel": {
           "align": "left"
          },
          "hovermode": "closest",
          "mapbox": {
           "style": "light"
          },
          "paper_bgcolor": "white",
          "plot_bgcolor": "#E5ECF6",
          "polar": {
           "angularaxis": {
            "gridcolor": "white",
            "linecolor": "white",
            "ticks": ""
           },
           "bgcolor": "#E5ECF6",
           "radialaxis": {
            "gridcolor": "white",
            "linecolor": "white",
            "ticks": ""
           }
          },
          "scene": {
           "xaxis": {
            "backgroundcolor": "#E5ECF6",
            "gridcolor": "white",
            "gridwidth": 2,
            "linecolor": "white",
            "showbackground": true,
            "ticks": "",
            "zerolinecolor": "white"
           },
           "yaxis": {
            "backgroundcolor": "#E5ECF6",
            "gridcolor": "white",
            "gridwidth": 2,
            "linecolor": "white",
            "showbackground": true,
            "ticks": "",
            "zerolinecolor": "white"
           },
           "zaxis": {
            "backgroundcolor": "#E5ECF6",
            "gridcolor": "white",
            "gridwidth": 2,
            "linecolor": "white",
            "showbackground": true,
            "ticks": "",
            "zerolinecolor": "white"
           }
          },
          "shapedefaults": {
           "line": {
            "color": "#2a3f5f"
           }
          },
          "ternary": {
           "aaxis": {
            "gridcolor": "white",
            "linecolor": "white",
            "ticks": ""
           },
           "baxis": {
            "gridcolor": "white",
            "linecolor": "white",
            "ticks": ""
           },
           "bgcolor": "#E5ECF6",
           "caxis": {
            "gridcolor": "white",
            "linecolor": "white",
            "ticks": ""
           }
          },
          "title": {
           "x": 0.05
          },
          "xaxis": {
           "automargin": true,
           "gridcolor": "white",
           "linecolor": "white",
           "ticks": "",
           "title": {
            "standoff": 15
           },
           "zerolinecolor": "white",
           "zerolinewidth": 2
          },
          "yaxis": {
           "automargin": true,
           "gridcolor": "white",
           "linecolor": "white",
           "ticks": "",
           "title": {
            "standoff": 15
           },
           "zerolinecolor": "white",
           "zerolinewidth": 2
          }
         }
        },
        "title": {
         "text": "Weekday Incidences "
        }
       }
      }
     },
     "metadata": {},
     "output_type": "display_data"
    }
   ],
   "source": [
    "#weekday incidences pie chart\n",
    "\n",
    "weekday = The_75th_precinct.WEEKDAY.value_counts()\n",
    "name = The_75th_precinct.WEEKDAY.value_counts().index\n",
    "\n",
    "fig = px.pie(The_75th_precinct,\n",
    "                     values = weekday,\n",
    "                    names = name,\n",
    "                    title = \"Weekday Incidences \")\n",
    "fig.show()\n",
    "\n",
    "\n"
   ]
  },
  {
   "cell_type": "markdown",
   "metadata": {},
   "source": [
    "* The majority of incidents tend to happen over the weekends, with Sunday (day 6 of the week) having the highest number of occurrences, followed by Saturday."
   ]
  },
  {
   "attachments": {},
   "cell_type": "markdown",
   "metadata": {},
   "source": [
    "##### Hourly Incidences"
   ]
  },
  {
   "cell_type": "code",
   "execution_count": 149,
   "metadata": {},
   "outputs": [
    {
     "data": {
      "text/plain": [
       "count    1386.000000\n",
       "mean       12.576479\n",
       "std         8.160236\n",
       "min         0.000000\n",
       "25%         4.000000\n",
       "50%        15.000000\n",
       "75%        20.000000\n",
       "max        23.000000\n",
       "Name: HOUR, dtype: float64"
      ]
     },
     "execution_count": 149,
     "metadata": {},
     "output_type": "execute_result"
    }
   ],
   "source": [
    "The_75th_precinct.HOUR.describe()"
   ]
  },
  {
   "cell_type": "code",
   "execution_count": 150,
   "metadata": {},
   "outputs": [
    {
     "data": {
      "image/png": "[encoded data removed]",
      "text/plain": [
       "<Figure size 720x360 with 1 Axes>"
      ]
     },
     "metadata": {
      "needs_background": "light"
     },
     "output_type": "display_data"
    }
   ],
   "source": [
    "#Barchart based on Monthly occurrences\n",
    "\n",
    "hour = The_75th_precinct.HOUR.value_counts().index\n",
    "incidences = The_75th_precinct.HOUR.value_counts()\n",
    "\n",
    "sns.barplot( x = hour,y= incidences)\n",
    "\n",
    "plt.title(\"Bar Graph:Hourly Incidences\",fontsize = 12)\n",
    "plt.xlabel(\"Hour\",fontsize = 12)\n",
    "plt.ylabel(\"Incidences\",fontsize = 12);"
   ]
  },
  {
   "attachments": {},
   "cell_type": "markdown",
   "metadata": {},
   "source": [
    "- Most incidents occur during the dark hours of the day, with 11 PM being the time when they are most likely to happen. As 5 AM approaches, incidents decrease, and then start to rise again at around 3 PM, continuing to increase into the evening."
   ]
  },
  {
   "attachments": {},
   "cell_type": "markdown",
   "metadata": {},
   "source": [
    "## Conclusion\n",
    "\n",
    "- There is a significant amount of missing data regarding perpetrators, necessitating the need for innovative solutions to capture at least some of their information. Technologies such as CCTV installation can play a critical role in addressing these challenges.\n",
    "- The high frequency of shootings in Brooklyn could be attributed to its status as the most populous borough in New York City. As population density increases, so does the likelihood of shooting incidents. Consequently, law enforcement officers must pay particular attention to and police the most densely populated areas.\n",
    "- As the 18-24 and 25-44 age brackets comprise primarily of working-class individuals who are most prone to committing gun violence, policymakers must devise solutions that specifically cater to these groups. To achieve this, it is imperative to explore the relationship between an individual's income and their propensity for gun violence.\n",
    "- Given that most incidents occur during the nighttime, it is crucial for people to be extra vigilant during these hours. Therefore, law enforcement agencies should increase patrols during these high-risk hours to mitigate potential incidents.\n",
    "- Considering that Brooklyn has the highest incidence rate, it's crucial for authorities to investigate the root causes and formulate effective responses. Afterwards, other locations can learn from the successful measures implemented to combat crime in Brooklyn.\n"
   ]
  }
 ],
 "metadata": {
  "kernelspec": {
   "display_name": "Python 3.9.7 ('Dbases')",
   "language": "python",
   "name": "python3"
  },
  "language_info": {
   "codemirror_mode": {
    "name": "ipython",
    "version": 3
   },
   "file_extension": ".py",
   "mimetype": "text/x-python",
   "name": "python",
   "nbconvert_exporter": "python",
   "pygments_lexer": "ipython3",
   "version": "3.9.7"
  },
  "orig_nbformat": 4,
  "vscode": {
   "interpreter": {
    "hash": "b17775c2dea02fc1f2f42bc92c63d52f2f4aa32e1315bff04d96806d0e68f237"
   }
  }
 },
 "nbformat": 4,
 "nbformat_minor": 2
}
